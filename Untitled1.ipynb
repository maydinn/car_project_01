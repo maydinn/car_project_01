{
 "cells": [
  {
   "cell_type": "code",
   "execution_count": 267,
   "metadata": {},
   "outputs": [],
   "source": [
    "import pandas as pd\n",
    "import numpy as np\n",
    "import seaborn as sns\n",
    "import matplotlib.pyplot as plt\n",
    "import plotly.graph_objs as go \n",
    "from plotly.offline import download_plotlyjs, init_notebook_mode, plot, iplot"
   ]
  },
  {
   "cell_type": "code",
   "execution_count": 7,
   "metadata": {},
   "outputs": [],
   "source": [
    "main = pd.read_excel('Muhammed_case_study-2.xlsx', sheet_name=2)"
   ]
  },
  {
   "cell_type": "code",
   "execution_count": 8,
   "metadata": {},
   "outputs": [
    {
     "data": {
      "text/html": [
       "<div>\n",
       "<style scoped>\n",
       "    .dataframe tbody tr th:only-of-type {\n",
       "        vertical-align: middle;\n",
       "    }\n",
       "\n",
       "    .dataframe tbody tr th {\n",
       "        vertical-align: top;\n",
       "    }\n",
       "\n",
       "    .dataframe thead th {\n",
       "        text-align: right;\n",
       "    }\n",
       "</style>\n",
       "<table border=\"1\" class=\"dataframe\">\n",
       "  <thead>\n",
       "    <tr style=\"text-align: right;\">\n",
       "      <th></th>\n",
       "      <th>Material No</th>\n",
       "      <th>material name</th>\n",
       "      <th>LMS Global Region</th>\n",
       "      <th>LMS Sub Region 1</th>\n",
       "      <th>LMS Sub Region 2</th>\n",
       "      <th>End User Country</th>\n",
       "      <th>Sales document</th>\n",
       "      <th>Product line</th>\n",
       "      <th>Product Group</th>\n",
       "      <th>Division</th>\n",
       "      <th>Product Name</th>\n",
       "      <th>Fiscal year</th>\n",
       "      <th>Posting period</th>\n",
       "      <th>Net Revenue</th>\n",
       "      <th>STC Margin</th>\n",
       "      <th>Quantity</th>\n",
       "      <th>Strategic Item Qty</th>\n",
       "    </tr>\n",
       "  </thead>\n",
       "  <tbody>\n",
       "    <tr>\n",
       "      <th>0</th>\n",
       "      <td>8014741</td>\n",
       "      <td>Narishige GJ-1 magnetic stand</td>\n",
       "      <td>Americas</td>\n",
       "      <td>North America</td>\n",
       "      <td>North America</td>\n",
       "      <td>USA</td>\n",
       "      <td>3341964</td>\n",
       "      <td>W99</td>\n",
       "      <td>CM</td>\n",
       "      <td>Research Microscopy</td>\n",
       "      <td>MZ10 F</td>\n",
       "      <td>2021</td>\n",
       "      <td>10</td>\n",
       "      <td>157.98</td>\n",
       "      <td>29.990000</td>\n",
       "      <td>1</td>\n",
       "      <td>NaN</td>\n",
       "    </tr>\n",
       "    <tr>\n",
       "      <th>1</th>\n",
       "      <td>8017299</td>\n",
       "      <td>Ampoule 12V/30W (64261) HAL   Réf:30327E</td>\n",
       "      <td>EMEA</td>\n",
       "      <td>Europe</td>\n",
       "      <td>West Europe</td>\n",
       "      <td>France</td>\n",
       "      <td>3390171</td>\n",
       "      <td>W99</td>\n",
       "      <td>CM</td>\n",
       "      <td>Research Microscopy</td>\n",
       "      <td>#</td>\n",
       "      <td>2021</td>\n",
       "      <td>10</td>\n",
       "      <td>36.81</td>\n",
       "      <td>32.264960</td>\n",
       "      <td>1</td>\n",
       "      <td>NaN</td>\n",
       "    </tr>\n",
       "    <tr>\n",
       "      <th>2</th>\n",
       "      <td>8017309</td>\n",
       "      <td>Bruleur HBO 100W/2 Ref:30085M</td>\n",
       "      <td>EMEA</td>\n",
       "      <td>Europe</td>\n",
       "      <td>West Europe</td>\n",
       "      <td>Netherlands</td>\n",
       "      <td>1587221</td>\n",
       "      <td>W99</td>\n",
       "      <td>CM</td>\n",
       "      <td>Research Microscopy</td>\n",
       "      <td>#</td>\n",
       "      <td>2021</td>\n",
       "      <td>10</td>\n",
       "      <td>NaN</td>\n",
       "      <td>227.136000</td>\n",
       "      <td>0</td>\n",
       "      <td>NaN</td>\n",
       "    </tr>\n",
       "    <tr>\n",
       "      <th>3</th>\n",
       "      <td>8017314</td>\n",
       "      <td>Bruleur HBO 50W AC REF.30091G</td>\n",
       "      <td>EMEA</td>\n",
       "      <td>Europe</td>\n",
       "      <td>West Europe</td>\n",
       "      <td>Belgium</td>\n",
       "      <td>1621808</td>\n",
       "      <td>W99</td>\n",
       "      <td>CM</td>\n",
       "      <td>Microsurgery</td>\n",
       "      <td>#</td>\n",
       "      <td>2021</td>\n",
       "      <td>10</td>\n",
       "      <td>NaN</td>\n",
       "      <td>75.712000</td>\n",
       "      <td>0</td>\n",
       "      <td>NaN</td>\n",
       "    </tr>\n",
       "    <tr>\n",
       "      <th>4</th>\n",
       "      <td>8025023</td>\n",
       "      <td>CONFEZIONE 100 MOLLETTE IN PLASTICA</td>\n",
       "      <td>EMEA</td>\n",
       "      <td>Europe</td>\n",
       "      <td>South Europe</td>\n",
       "      <td>Italy</td>\n",
       "      <td>3363360</td>\n",
       "      <td>W99</td>\n",
       "      <td>CM</td>\n",
       "      <td>Industry</td>\n",
       "      <td>#</td>\n",
       "      <td>2021</td>\n",
       "      <td>10</td>\n",
       "      <td>89.74</td>\n",
       "      <td>18.031104</td>\n",
       "      <td>1</td>\n",
       "      <td>NaN</td>\n",
       "    </tr>\n",
       "  </tbody>\n",
       "</table>\n",
       "</div>"
      ],
      "text/plain": [
       "  Material No                             material name LMS Global Region  \\\n",
       "0     8014741             Narishige GJ-1 magnetic stand          Americas   \n",
       "1     8017299  Ampoule 12V/30W (64261) HAL   Réf:30327E              EMEA   \n",
       "2     8017309             Bruleur HBO 100W/2 Ref:30085M              EMEA   \n",
       "3     8017314             Bruleur HBO 50W AC REF.30091G              EMEA   \n",
       "4     8025023       CONFEZIONE 100 MOLLETTE IN PLASTICA              EMEA   \n",
       "\n",
       "  LMS Sub Region 1 LMS Sub Region 2 End User Country  Sales document  \\\n",
       "0    North America    North America              USA         3341964   \n",
       "1           Europe      West Europe           France         3390171   \n",
       "2           Europe      West Europe      Netherlands         1587221   \n",
       "3           Europe      West Europe          Belgium         1621808   \n",
       "4           Europe     South Europe            Italy         3363360   \n",
       "\n",
       "  Product line Product Group             Division Product Name  Fiscal year  \\\n",
       "0          W99            CM  Research Microscopy       MZ10 F         2021   \n",
       "1          W99            CM  Research Microscopy            #         2021   \n",
       "2          W99            CM  Research Microscopy            #         2021   \n",
       "3          W99            CM         Microsurgery            #         2021   \n",
       "4          W99            CM             Industry            #         2021   \n",
       "\n",
       "   Posting period  Net Revenue  STC Margin  Quantity  Strategic Item Qty  \n",
       "0              10       157.98   29.990000         1                 NaN  \n",
       "1              10        36.81   32.264960         1                 NaN  \n",
       "2              10          NaN  227.136000         0                 NaN  \n",
       "3              10          NaN   75.712000         0                 NaN  \n",
       "4              10        89.74   18.031104         1                 NaN  "
      ]
     },
     "execution_count": 8,
     "metadata": {},
     "output_type": "execute_result"
    }
   ],
   "source": [
    "main.head()"
   ]
  },
  {
   "cell_type": "code",
   "execution_count": 9,
   "metadata": {},
   "outputs": [],
   "source": [
    "ref = pd.read_excel('Muhammed_case_study-2.xlsx', sheet_name=1)"
   ]
  },
  {
   "cell_type": "code",
   "execution_count": 10,
   "metadata": {},
   "outputs": [
    {
     "data": {
      "text/html": [
       "<div>\n",
       "<style scoped>\n",
       "    .dataframe tbody tr th:only-of-type {\n",
       "        vertical-align: middle;\n",
       "    }\n",
       "\n",
       "    .dataframe tbody tr th {\n",
       "        vertical-align: top;\n",
       "    }\n",
       "\n",
       "    .dataframe thead th {\n",
       "        text-align: right;\n",
       "    }\n",
       "</style>\n",
       "<table border=\"1\" class=\"dataframe\">\n",
       "  <thead>\n",
       "    <tr style=\"text-align: right;\">\n",
       "      <th></th>\n",
       "      <th>Material No</th>\n",
       "      <th>Products</th>\n",
       "      <th>HW</th>\n",
       "      <th>Revenue</th>\n",
       "      <th>Margin</th>\n",
       "    </tr>\n",
       "  </thead>\n",
       "  <tbody>\n",
       "    <tr>\n",
       "      <th>0</th>\n",
       "      <td>11510056</td>\n",
       "      <td>THUNDER Imager Tissue</td>\n",
       "      <td>DM4 B</td>\n",
       "      <td>NaN</td>\n",
       "      <td>NaN</td>\n",
       "    </tr>\n",
       "    <tr>\n",
       "      <th>1</th>\n",
       "      <td>11510057</td>\n",
       "      <td>THUNDER Imager 3D Tissue</td>\n",
       "      <td>DM6 B</td>\n",
       "      <td>NaN</td>\n",
       "      <td>NaN</td>\n",
       "    </tr>\n",
       "    <tr>\n",
       "      <th>2</th>\n",
       "      <td>11525459</td>\n",
       "      <td>THUNDER Imager 3D cell culture</td>\n",
       "      <td>DMi8</td>\n",
       "      <td>NaN</td>\n",
       "      <td>NaN</td>\n",
       "    </tr>\n",
       "    <tr>\n",
       "      <th>3</th>\n",
       "      <td>11525460</td>\n",
       "      <td>THUNDER Imager 3D live cells</td>\n",
       "      <td>DMi8</td>\n",
       "      <td>NaN</td>\n",
       "      <td>NaN</td>\n",
       "    </tr>\n",
       "    <tr>\n",
       "      <th>4</th>\n",
       "      <td>10450913</td>\n",
       "      <td>THUNDER Imager Model Organism LARGE</td>\n",
       "      <td>M205</td>\n",
       "      <td>NaN</td>\n",
       "      <td>NaN</td>\n",
       "    </tr>\n",
       "  </tbody>\n",
       "</table>\n",
       "</div>"
      ],
      "text/plain": [
       "   Material No                             Products     HW  Revenue  Margin\n",
       "0     11510056                THUNDER Imager Tissue  DM4 B      NaN     NaN\n",
       "1     11510057             THUNDER Imager 3D Tissue  DM6 B      NaN     NaN\n",
       "2     11525459       THUNDER Imager 3D cell culture   DMi8      NaN     NaN\n",
       "3     11525460         THUNDER Imager 3D live cells   DMi8      NaN     NaN\n",
       "4     10450913  THUNDER Imager Model Organism LARGE   M205      NaN     NaN"
      ]
     },
     "execution_count": 10,
     "metadata": {},
     "output_type": "execute_result"
    }
   ],
   "source": [
    "ref.head()"
   ]
  },
  {
   "cell_type": "code",
   "execution_count": 11,
   "metadata": {},
   "outputs": [
    {
     "name": "stdout",
     "output_type": "stream",
     "text": [
      "<class 'pandas.core.frame.DataFrame'>\n",
      "RangeIndex: 19681 entries, 0 to 19680\n",
      "Data columns (total 17 columns):\n",
      " #   Column              Non-Null Count  Dtype  \n",
      "---  ------              --------------  -----  \n",
      " 0   Material No         19681 non-null  object \n",
      " 1   material name       19681 non-null  object \n",
      " 2   LMS Global Region   19681 non-null  object \n",
      " 3   LMS Sub Region 1    19681 non-null  object \n",
      " 4   LMS Sub Region 2    19681 non-null  object \n",
      " 5   End User Country    19681 non-null  object \n",
      " 6   Sales document      19681 non-null  int64  \n",
      " 7   Product line        19681 non-null  object \n",
      " 8   Product Group       19681 non-null  object \n",
      " 9   Division            19681 non-null  object \n",
      " 10  Product Name        19624 non-null  object \n",
      " 11  Fiscal year         19681 non-null  int64  \n",
      " 12  Posting period      19681 non-null  int64  \n",
      " 13  Net Revenue         15423 non-null  float64\n",
      " 14  STC Margin          15820 non-null  float64\n",
      " 15  Quantity            19681 non-null  int64  \n",
      " 16  Strategic Item Qty  1649 non-null   float64\n",
      "dtypes: float64(3), int64(4), object(10)\n",
      "memory usage: 2.6+ MB\n"
     ]
    }
   ],
   "source": [
    "main.info()"
   ]
  },
  {
   "cell_type": "code",
   "execution_count": 12,
   "metadata": {},
   "outputs": [
    {
     "name": "stdout",
     "output_type": "stream",
     "text": [
      "<class 'pandas.core.frame.DataFrame'>\n",
      "RangeIndex: 30 entries, 0 to 29\n",
      "Data columns (total 5 columns):\n",
      " #   Column       Non-Null Count  Dtype  \n",
      "---  ------       --------------  -----  \n",
      " 0   Material No  30 non-null     int64  \n",
      " 1   Products     30 non-null     object \n",
      " 2   HW           30 non-null     object \n",
      " 3   Revenue      0 non-null      float64\n",
      " 4   Margin       0 non-null      float64\n",
      "dtypes: float64(2), int64(1), object(2)\n",
      "memory usage: 1.3+ KB\n"
     ]
    }
   ],
   "source": [
    "ref.info()"
   ]
  },
  {
   "cell_type": "code",
   "execution_count": 14,
   "metadata": {},
   "outputs": [],
   "source": [
    "ref['Material No'] = ref['Material No'].astype('str')"
   ]
  },
  {
   "cell_type": "code",
   "execution_count": 18,
   "metadata": {},
   "outputs": [],
   "source": [
    "ref['mat_ref'] = ref['Material No'].astype('int32')"
   ]
  },
  {
   "cell_type": "code",
   "execution_count": 20,
   "metadata": {},
   "outputs": [],
   "source": [
    "df = pd.merge(main, ref, how = 'left',on= 'Material No' )"
   ]
  },
  {
   "cell_type": "code",
   "execution_count": 25,
   "metadata": {},
   "outputs": [],
   "source": [
    "den = df.groupby(['Sales document'] ).sum()"
   ]
  },
  {
   "cell_type": "code",
   "execution_count": 33,
   "metadata": {},
   "outputs": [],
   "source": [
    "den_dev = den[(den.mat_ref>1) & (den['Strategic Item Qty'] >0 )]"
   ]
  },
  {
   "cell_type": "code",
   "execution_count": 37,
   "metadata": {},
   "outputs": [],
   "source": [
    "den_dev.reset_index(inplace=True)"
   ]
  },
  {
   "cell_type": "code",
   "execution_count": 39,
   "metadata": {},
   "outputs": [],
   "source": [
    "liste = list(den_dev['Sales document'])"
   ]
  },
  {
   "cell_type": "code",
   "execution_count": 74,
   "metadata": {},
   "outputs": [],
   "source": [
    "main['sales_ref'] =  main['Sales document'].apply(lambda x : x if x in liste else 0)"
   ]
  },
  {
   "cell_type": "code",
   "execution_count": 75,
   "metadata": {},
   "outputs": [],
   "source": [
    "main_sales_ref=main[main.sales_ref > 0]"
   ]
  },
  {
   "cell_type": "code",
   "execution_count": 78,
   "metadata": {},
   "outputs": [],
   "source": [
    "main_sales_ref = main_sales_ref.copy()"
   ]
  },
  {
   "cell_type": "code",
   "execution_count": 86,
   "metadata": {},
   "outputs": [],
   "source": [
    "main_sales_ref.drop('sales_ref', axis = 1, inplace=True)"
   ]
  },
  {
   "cell_type": "code",
   "execution_count": 88,
   "metadata": {},
   "outputs": [],
   "source": [
    "main_sales_ref['mat_ref'] = main_sales_ref['Material No'].apply(lambda x: x if x in list(ref['Material No']) else 0)"
   ]
  },
  {
   "cell_type": "code",
   "execution_count": 106,
   "metadata": {},
   "outputs": [
    {
     "data": {
      "text/html": [
       "<div>\n",
       "<style scoped>\n",
       "    .dataframe tbody tr th:only-of-type {\n",
       "        vertical-align: middle;\n",
       "    }\n",
       "\n",
       "    .dataframe tbody tr th {\n",
       "        vertical-align: top;\n",
       "    }\n",
       "\n",
       "    .dataframe thead th {\n",
       "        text-align: right;\n",
       "    }\n",
       "</style>\n",
       "<table border=\"1\" class=\"dataframe\">\n",
       "  <thead>\n",
       "    <tr style=\"text-align: right;\">\n",
       "      <th></th>\n",
       "      <th>Material No</th>\n",
       "      <th>material name</th>\n",
       "      <th>LMS Global Region</th>\n",
       "      <th>LMS Sub Region 1</th>\n",
       "      <th>LMS Sub Region 2</th>\n",
       "      <th>End User Country</th>\n",
       "      <th>Sales document</th>\n",
       "      <th>Product line</th>\n",
       "      <th>Product Group</th>\n",
       "      <th>Division</th>\n",
       "      <th>Product Name</th>\n",
       "      <th>Fiscal year</th>\n",
       "      <th>Posting period</th>\n",
       "      <th>Net Revenue</th>\n",
       "      <th>STC Margin</th>\n",
       "      <th>Quantity</th>\n",
       "      <th>Strategic Item Qty</th>\n",
       "      <th>mat_ref</th>\n",
       "    </tr>\n",
       "  </thead>\n",
       "  <tbody>\n",
       "    <tr>\n",
       "      <th>5953</th>\n",
       "      <td>10450921</td>\n",
       "      <td>THUNDER Imager Model Organism coded</td>\n",
       "      <td>Americas</td>\n",
       "      <td>North America</td>\n",
       "      <td>North America</td>\n",
       "      <td>USA</td>\n",
       "      <td>3344852</td>\n",
       "      <td>H11</td>\n",
       "      <td>SMS</td>\n",
       "      <td>Research Microscopy</td>\n",
       "      <td>THUND MOD ORG CODE</td>\n",
       "      <td>2021</td>\n",
       "      <td>10</td>\n",
       "      <td>24828.37</td>\n",
       "      <td>18476.377808</td>\n",
       "      <td>1</td>\n",
       "      <td>1.0</td>\n",
       "      <td>10450921</td>\n",
       "    </tr>\n",
       "    <tr>\n",
       "      <th>5955</th>\n",
       "      <td>10450921</td>\n",
       "      <td>THUNDER Imager Model Organism coded</td>\n",
       "      <td>EMEA</td>\n",
       "      <td>Europe</td>\n",
       "      <td>Central Europe</td>\n",
       "      <td>Switzerland</td>\n",
       "      <td>13655092</td>\n",
       "      <td>H11</td>\n",
       "      <td>SMS</td>\n",
       "      <td>Research Microscopy</td>\n",
       "      <td>THUND MOD ORG CODE</td>\n",
       "      <td>2021</td>\n",
       "      <td>10</td>\n",
       "      <td>29578.52</td>\n",
       "      <td>23226.532702</td>\n",
       "      <td>1</td>\n",
       "      <td>1.0</td>\n",
       "      <td>10450921</td>\n",
       "    </tr>\n",
       "    <tr>\n",
       "      <th>5956</th>\n",
       "      <td>10450922</td>\n",
       "      <td>THUNDER Imager Model Organism automated</td>\n",
       "      <td>China</td>\n",
       "      <td>China</td>\n",
       "      <td>China</td>\n",
       "      <td>China</td>\n",
       "      <td>3307646</td>\n",
       "      <td>H11</td>\n",
       "      <td>SMS</td>\n",
       "      <td>Research Microscopy</td>\n",
       "      <td>THUND MOD ORG AUTO</td>\n",
       "      <td>2021</td>\n",
       "      <td>10</td>\n",
       "      <td>24657.32</td>\n",
       "      <td>17984.986441</td>\n",
       "      <td>1</td>\n",
       "      <td>1.0</td>\n",
       "      <td>10450922</td>\n",
       "    </tr>\n",
       "    <tr>\n",
       "      <th>10252</th>\n",
       "      <td>11510059</td>\n",
       "      <td>THUNDER Imager 3D Tissue</td>\n",
       "      <td>EMEA</td>\n",
       "      <td>Europe</td>\n",
       "      <td>Central Europe</td>\n",
       "      <td>Switzerland</td>\n",
       "      <td>3355107</td>\n",
       "      <td>W11</td>\n",
       "      <td>CM</td>\n",
       "      <td>Research Microscopy</td>\n",
       "      <td>THUND 3D TISSUE</td>\n",
       "      <td>2021</td>\n",
       "      <td>10</td>\n",
       "      <td>41533.43</td>\n",
       "      <td>27471.323167</td>\n",
       "      <td>1</td>\n",
       "      <td>1.0</td>\n",
       "      <td>11510059</td>\n",
       "    </tr>\n",
       "    <tr>\n",
       "      <th>10253</th>\n",
       "      <td>11510060</td>\n",
       "      <td>THUNDER Imager 3D Tissue</td>\n",
       "      <td>Americas</td>\n",
       "      <td>North America</td>\n",
       "      <td>North America</td>\n",
       "      <td>USA</td>\n",
       "      <td>3355561</td>\n",
       "      <td>W11</td>\n",
       "      <td>CM</td>\n",
       "      <td>Research Microscopy</td>\n",
       "      <td>THUND 3D TISSUE</td>\n",
       "      <td>2021</td>\n",
       "      <td>10</td>\n",
       "      <td>31797.50</td>\n",
       "      <td>23317.325024</td>\n",
       "      <td>1</td>\n",
       "      <td>1.0</td>\n",
       "      <td>11510060</td>\n",
       "    </tr>\n",
       "    <tr>\n",
       "      <th>10254</th>\n",
       "      <td>11510060</td>\n",
       "      <td>THUNDER Imager 3D Tissue</td>\n",
       "      <td>Americas</td>\n",
       "      <td>North America</td>\n",
       "      <td>North America</td>\n",
       "      <td>USA</td>\n",
       "      <td>3358625</td>\n",
       "      <td>W11</td>\n",
       "      <td>CM</td>\n",
       "      <td>Research Microscopy</td>\n",
       "      <td>THUND 3D TISSUE</td>\n",
       "      <td>2021</td>\n",
       "      <td>10</td>\n",
       "      <td>34750.26</td>\n",
       "      <td>26270.085024</td>\n",
       "      <td>1</td>\n",
       "      <td>1.0</td>\n",
       "      <td>11510060</td>\n",
       "    </tr>\n",
       "    <tr>\n",
       "      <th>10255</th>\n",
       "      <td>11510060</td>\n",
       "      <td>THUNDER Imager 3D Tissue</td>\n",
       "      <td>China</td>\n",
       "      <td>China</td>\n",
       "      <td>China</td>\n",
       "      <td>China</td>\n",
       "      <td>3352128</td>\n",
       "      <td>W11</td>\n",
       "      <td>CM</td>\n",
       "      <td>Research Microscopy</td>\n",
       "      <td>THUND 3D TISSUE</td>\n",
       "      <td>2021</td>\n",
       "      <td>10</td>\n",
       "      <td>21612.07</td>\n",
       "      <td>13131.899969</td>\n",
       "      <td>1</td>\n",
       "      <td>1.0</td>\n",
       "      <td>11510060</td>\n",
       "    </tr>\n",
       "    <tr>\n",
       "      <th>10257</th>\n",
       "      <td>11510060</td>\n",
       "      <td>THUNDER Imager 3D Tissue</td>\n",
       "      <td>EMEA</td>\n",
       "      <td>Europe</td>\n",
       "      <td>South Europe</td>\n",
       "      <td>Italy</td>\n",
       "      <td>3356534</td>\n",
       "      <td>W11</td>\n",
       "      <td>CM</td>\n",
       "      <td>Research Microscopy</td>\n",
       "      <td>THUND 3D TISSUE</td>\n",
       "      <td>2021</td>\n",
       "      <td>10</td>\n",
       "      <td>32104.90</td>\n",
       "      <td>23624.729856</td>\n",
       "      <td>1</td>\n",
       "      <td>1.0</td>\n",
       "      <td>11510060</td>\n",
       "    </tr>\n",
       "    <tr>\n",
       "      <th>10259</th>\n",
       "      <td>11510061</td>\n",
       "      <td>THUNDER Imager Tissue</td>\n",
       "      <td>EMEA</td>\n",
       "      <td>Europe</td>\n",
       "      <td>South Europe</td>\n",
       "      <td>Spain</td>\n",
       "      <td>3356289</td>\n",
       "      <td>W11</td>\n",
       "      <td>CM</td>\n",
       "      <td>Research Microscopy</td>\n",
       "      <td>THUND TISSUE</td>\n",
       "      <td>2021</td>\n",
       "      <td>10</td>\n",
       "      <td>10041.33</td>\n",
       "      <td>4719.152256</td>\n",
       "      <td>1</td>\n",
       "      <td>1.0</td>\n",
       "      <td>11510061</td>\n",
       "    </tr>\n",
       "    <tr>\n",
       "      <th>11757</th>\n",
       "      <td>11525678</td>\n",
       "      <td>THUNDER Imager 3D Assay</td>\n",
       "      <td>China</td>\n",
       "      <td>China</td>\n",
       "      <td>China</td>\n",
       "      <td>China</td>\n",
       "      <td>3331426</td>\n",
       "      <td>W41</td>\n",
       "      <td>CM</td>\n",
       "      <td>Research Microscopy</td>\n",
       "      <td>THUND 3D ASSAY</td>\n",
       "      <td>2021</td>\n",
       "      <td>10</td>\n",
       "      <td>23436.02</td>\n",
       "      <td>12903.449041</td>\n",
       "      <td>1</td>\n",
       "      <td>1.0</td>\n",
       "      <td>11525678</td>\n",
       "    </tr>\n",
       "    <tr>\n",
       "      <th>11758</th>\n",
       "      <td>11525678</td>\n",
       "      <td>THUNDER Imager 3D Assay</td>\n",
       "      <td>China</td>\n",
       "      <td>China</td>\n",
       "      <td>China</td>\n",
       "      <td>China</td>\n",
       "      <td>3359179</td>\n",
       "      <td>W41</td>\n",
       "      <td>CM</td>\n",
       "      <td>Research Microscopy</td>\n",
       "      <td>THUND 3D ASSAY</td>\n",
       "      <td>2021</td>\n",
       "      <td>10</td>\n",
       "      <td>22333.34</td>\n",
       "      <td>11800.765111</td>\n",
       "      <td>1</td>\n",
       "      <td>1.0</td>\n",
       "      <td>11525678</td>\n",
       "    </tr>\n",
       "    <tr>\n",
       "      <th>11759</th>\n",
       "      <td>11525678</td>\n",
       "      <td>THUNDER Imager 3D Assay</td>\n",
       "      <td>EMEA</td>\n",
       "      <td>Europe</td>\n",
       "      <td>Central Europe</td>\n",
       "      <td>Germany</td>\n",
       "      <td>13655488</td>\n",
       "      <td>W41</td>\n",
       "      <td>CM</td>\n",
       "      <td>Research Microscopy</td>\n",
       "      <td>THUND 3D ASSAY</td>\n",
       "      <td>2021</td>\n",
       "      <td>10</td>\n",
       "      <td>29830.38</td>\n",
       "      <td>19297.800704</td>\n",
       "      <td>1</td>\n",
       "      <td>1.0</td>\n",
       "      <td>11525678</td>\n",
       "    </tr>\n",
       "    <tr>\n",
       "      <th>11760</th>\n",
       "      <td>11525678</td>\n",
       "      <td>THUNDER Imager 3D Assay</td>\n",
       "      <td>EMEA</td>\n",
       "      <td>Europe</td>\n",
       "      <td>North Europe</td>\n",
       "      <td>Great Britain</td>\n",
       "      <td>3338183</td>\n",
       "      <td>W41</td>\n",
       "      <td>CM</td>\n",
       "      <td>Research Microscopy</td>\n",
       "      <td>THUND 3D ASSAY</td>\n",
       "      <td>2021</td>\n",
       "      <td>10</td>\n",
       "      <td>29952.31</td>\n",
       "      <td>19419.739047</td>\n",
       "      <td>1</td>\n",
       "      <td>1.0</td>\n",
       "      <td>11525678</td>\n",
       "    </tr>\n",
       "    <tr>\n",
       "      <th>11764</th>\n",
       "      <td>11525679</td>\n",
       "      <td>THUNDER Imager 3D Cell Culture</td>\n",
       "      <td>Americas</td>\n",
       "      <td>North America</td>\n",
       "      <td>North America</td>\n",
       "      <td>USA</td>\n",
       "      <td>3351394</td>\n",
       "      <td>W41</td>\n",
       "      <td>CM</td>\n",
       "      <td>Research Microscopy</td>\n",
       "      <td>THUND 3D CELL CULT</td>\n",
       "      <td>2021</td>\n",
       "      <td>10</td>\n",
       "      <td>30937.50</td>\n",
       "      <td>19941.939424</td>\n",
       "      <td>1</td>\n",
       "      <td>1.0</td>\n",
       "      <td>11525679</td>\n",
       "    </tr>\n",
       "    <tr>\n",
       "      <th>11766</th>\n",
       "      <td>11525679</td>\n",
       "      <td>THUNDER Imager 3D Cell Culture</td>\n",
       "      <td>China</td>\n",
       "      <td>China</td>\n",
       "      <td>China</td>\n",
       "      <td>China</td>\n",
       "      <td>3307646</td>\n",
       "      <td>W41</td>\n",
       "      <td>CM</td>\n",
       "      <td>Research Microscopy</td>\n",
       "      <td>THUND 3D CELL CULT</td>\n",
       "      <td>2021</td>\n",
       "      <td>10</td>\n",
       "      <td>28860.12</td>\n",
       "      <td>17864.562661</td>\n",
       "      <td>1</td>\n",
       "      <td>1.0</td>\n",
       "      <td>11525679</td>\n",
       "    </tr>\n",
       "    <tr>\n",
       "      <th>11767</th>\n",
       "      <td>11525679</td>\n",
       "      <td>THUNDER Imager 3D Cell Culture</td>\n",
       "      <td>EMEA</td>\n",
       "      <td>Europe</td>\n",
       "      <td>Central Europe</td>\n",
       "      <td>Germany</td>\n",
       "      <td>13654335</td>\n",
       "      <td>W41</td>\n",
       "      <td>CM</td>\n",
       "      <td>Research Microscopy</td>\n",
       "      <td>THUND 3D CELL CULT</td>\n",
       "      <td>2021</td>\n",
       "      <td>10</td>\n",
       "      <td>34365.00</td>\n",
       "      <td>23369.440640</td>\n",
       "      <td>1</td>\n",
       "      <td>1.0</td>\n",
       "      <td>11525679</td>\n",
       "    </tr>\n",
       "    <tr>\n",
       "      <th>11768</th>\n",
       "      <td>11525679</td>\n",
       "      <td>THUNDER Imager 3D Cell Culture</td>\n",
       "      <td>EMEA</td>\n",
       "      <td>Europe</td>\n",
       "      <td>North Europe</td>\n",
       "      <td>Great Britain</td>\n",
       "      <td>3348477</td>\n",
       "      <td>W41</td>\n",
       "      <td>CM</td>\n",
       "      <td>Research Microscopy</td>\n",
       "      <td>THUND 3D CELL CULT</td>\n",
       "      <td>2021</td>\n",
       "      <td>10</td>\n",
       "      <td>30141.82</td>\n",
       "      <td>19146.255048</td>\n",
       "      <td>1</td>\n",
       "      <td>1.0</td>\n",
       "      <td>11525679</td>\n",
       "    </tr>\n",
       "    <tr>\n",
       "      <th>11771</th>\n",
       "      <td>11525681</td>\n",
       "      <td>THUNDER Imager Live Cell</td>\n",
       "      <td>Americas</td>\n",
       "      <td>North America</td>\n",
       "      <td>North America</td>\n",
       "      <td>USA</td>\n",
       "      <td>3306986</td>\n",
       "      <td>W41</td>\n",
       "      <td>CM</td>\n",
       "      <td>Research Microscopy</td>\n",
       "      <td>THUND LIVE CELL</td>\n",
       "      <td>2021</td>\n",
       "      <td>10</td>\n",
       "      <td>31981.28</td>\n",
       "      <td>20666.657408</td>\n",
       "      <td>1</td>\n",
       "      <td>1.0</td>\n",
       "      <td>11525681</td>\n",
       "    </tr>\n",
       "    <tr>\n",
       "      <th>11772</th>\n",
       "      <td>11525681</td>\n",
       "      <td>THUNDER Imager Live Cell</td>\n",
       "      <td>EMEA</td>\n",
       "      <td>Europe</td>\n",
       "      <td>North Europe</td>\n",
       "      <td>Denmark</td>\n",
       "      <td>3339742</td>\n",
       "      <td>W41</td>\n",
       "      <td>CM</td>\n",
       "      <td>Research Microscopy</td>\n",
       "      <td>THUND LIVE CELL</td>\n",
       "      <td>2021</td>\n",
       "      <td>10</td>\n",
       "      <td>27619.14</td>\n",
       "      <td>16304.519435</td>\n",
       "      <td>1</td>\n",
       "      <td>1.0</td>\n",
       "      <td>11525681</td>\n",
       "    </tr>\n",
       "  </tbody>\n",
       "</table>\n",
       "</div>"
      ],
      "text/plain": [
       "      Material No                            material name LMS Global Region  \\\n",
       "5953     10450921      THUNDER Imager Model Organism coded          Americas   \n",
       "5955     10450921      THUNDER Imager Model Organism coded              EMEA   \n",
       "5956     10450922  THUNDER Imager Model Organism automated             China   \n",
       "10252    11510059                 THUNDER Imager 3D Tissue              EMEA   \n",
       "10253    11510060                 THUNDER Imager 3D Tissue          Americas   \n",
       "10254    11510060                 THUNDER Imager 3D Tissue          Americas   \n",
       "10255    11510060                 THUNDER Imager 3D Tissue             China   \n",
       "10257    11510060                 THUNDER Imager 3D Tissue              EMEA   \n",
       "10259    11510061                    THUNDER Imager Tissue              EMEA   \n",
       "11757    11525678                  THUNDER Imager 3D Assay             China   \n",
       "11758    11525678                  THUNDER Imager 3D Assay             China   \n",
       "11759    11525678                  THUNDER Imager 3D Assay              EMEA   \n",
       "11760    11525678                  THUNDER Imager 3D Assay              EMEA   \n",
       "11764    11525679           THUNDER Imager 3D Cell Culture          Americas   \n",
       "11766    11525679           THUNDER Imager 3D Cell Culture             China   \n",
       "11767    11525679           THUNDER Imager 3D Cell Culture              EMEA   \n",
       "11768    11525679           THUNDER Imager 3D Cell Culture              EMEA   \n",
       "11771    11525681                 THUNDER Imager Live Cell          Americas   \n",
       "11772    11525681                 THUNDER Imager Live Cell              EMEA   \n",
       "\n",
       "      LMS Sub Region 1 LMS Sub Region 2 End User Country  Sales document  \\\n",
       "5953     North America    North America              USA         3344852   \n",
       "5955            Europe   Central Europe      Switzerland        13655092   \n",
       "5956             China            China            China         3307646   \n",
       "10252           Europe   Central Europe      Switzerland         3355107   \n",
       "10253    North America    North America              USA         3355561   \n",
       "10254    North America    North America              USA         3358625   \n",
       "10255            China            China            China         3352128   \n",
       "10257           Europe     South Europe            Italy         3356534   \n",
       "10259           Europe     South Europe            Spain         3356289   \n",
       "11757            China            China            China         3331426   \n",
       "11758            China            China            China         3359179   \n",
       "11759           Europe   Central Europe          Germany        13655488   \n",
       "11760           Europe     North Europe    Great Britain         3338183   \n",
       "11764    North America    North America              USA         3351394   \n",
       "11766            China            China            China         3307646   \n",
       "11767           Europe   Central Europe          Germany        13654335   \n",
       "11768           Europe     North Europe    Great Britain         3348477   \n",
       "11771    North America    North America              USA         3306986   \n",
       "11772           Europe     North Europe          Denmark         3339742   \n",
       "\n",
       "      Product line Product Group             Division        Product Name  \\\n",
       "5953           H11           SMS  Research Microscopy  THUND MOD ORG CODE   \n",
       "5955           H11           SMS  Research Microscopy  THUND MOD ORG CODE   \n",
       "5956           H11           SMS  Research Microscopy  THUND MOD ORG AUTO   \n",
       "10252          W11            CM  Research Microscopy     THUND 3D TISSUE   \n",
       "10253          W11            CM  Research Microscopy     THUND 3D TISSUE   \n",
       "10254          W11            CM  Research Microscopy     THUND 3D TISSUE   \n",
       "10255          W11            CM  Research Microscopy     THUND 3D TISSUE   \n",
       "10257          W11            CM  Research Microscopy     THUND 3D TISSUE   \n",
       "10259          W11            CM  Research Microscopy        THUND TISSUE   \n",
       "11757          W41            CM  Research Microscopy      THUND 3D ASSAY   \n",
       "11758          W41            CM  Research Microscopy      THUND 3D ASSAY   \n",
       "11759          W41            CM  Research Microscopy      THUND 3D ASSAY   \n",
       "11760          W41            CM  Research Microscopy      THUND 3D ASSAY   \n",
       "11764          W41            CM  Research Microscopy  THUND 3D CELL CULT   \n",
       "11766          W41            CM  Research Microscopy  THUND 3D CELL CULT   \n",
       "11767          W41            CM  Research Microscopy  THUND 3D CELL CULT   \n",
       "11768          W41            CM  Research Microscopy  THUND 3D CELL CULT   \n",
       "11771          W41            CM  Research Microscopy     THUND LIVE CELL   \n",
       "11772          W41            CM  Research Microscopy     THUND LIVE CELL   \n",
       "\n",
       "       Fiscal year  Posting period  Net Revenue    STC Margin  Quantity  \\\n",
       "5953          2021              10     24828.37  18476.377808         1   \n",
       "5955          2021              10     29578.52  23226.532702         1   \n",
       "5956          2021              10     24657.32  17984.986441         1   \n",
       "10252         2021              10     41533.43  27471.323167         1   \n",
       "10253         2021              10     31797.50  23317.325024         1   \n",
       "10254         2021              10     34750.26  26270.085024         1   \n",
       "10255         2021              10     21612.07  13131.899969         1   \n",
       "10257         2021              10     32104.90  23624.729856         1   \n",
       "10259         2021              10     10041.33   4719.152256         1   \n",
       "11757         2021              10     23436.02  12903.449041         1   \n",
       "11758         2021              10     22333.34  11800.765111         1   \n",
       "11759         2021              10     29830.38  19297.800704         1   \n",
       "11760         2021              10     29952.31  19419.739047         1   \n",
       "11764         2021              10     30937.50  19941.939424         1   \n",
       "11766         2021              10     28860.12  17864.562661         1   \n",
       "11767         2021              10     34365.00  23369.440640         1   \n",
       "11768         2021              10     30141.82  19146.255048         1   \n",
       "11771         2021              10     31981.28  20666.657408         1   \n",
       "11772         2021              10     27619.14  16304.519435         1   \n",
       "\n",
       "       Strategic Item Qty   mat_ref  \n",
       "5953                  1.0  10450921  \n",
       "5955                  1.0  10450921  \n",
       "5956                  1.0  10450922  \n",
       "10252                 1.0  11510059  \n",
       "10253                 1.0  11510060  \n",
       "10254                 1.0  11510060  \n",
       "10255                 1.0  11510060  \n",
       "10257                 1.0  11510060  \n",
       "10259                 1.0  11510061  \n",
       "11757                 1.0  11525678  \n",
       "11758                 1.0  11525678  \n",
       "11759                 1.0  11525678  \n",
       "11760                 1.0  11525678  \n",
       "11764                 1.0  11525679  \n",
       "11766                 1.0  11525679  \n",
       "11767                 1.0  11525679  \n",
       "11768                 1.0  11525679  \n",
       "11771                 1.0  11525681  \n",
       "11772                 1.0  11525681  "
      ]
     },
     "execution_count": 106,
     "metadata": {},
     "output_type": "execute_result"
    }
   ],
   "source": [
    "main_sales_ref.mat_ref = main_sales_ref.mat_ref.astype('int32')\n"
   ]
  },
  {
   "cell_type": "code",
   "execution_count": 128,
   "metadata": {},
   "outputs": [],
   "source": [
    "\n",
    "df = main_sales_ref[main_sales_ref['mat_ref']>0]\n",
    "ser = zip(df['Sales document'], df.mat_ref)\n",
    "ser = list(ser)"
   ]
  },
  {
   "cell_type": "code",
   "execution_count": 130,
   "metadata": {},
   "outputs": [
    {
     "name": "stdout",
     "output_type": "stream",
     "text": [
      "(3344852, 10450921)\n",
      "(13655092, 10450921)\n",
      "(3307646, 10450922)\n",
      "(3355107, 11510059)\n",
      "(3355561, 11510060)\n",
      "(3358625, 11510060)\n",
      "(3352128, 11510060)\n",
      "(3356534, 11510060)\n",
      "(3356289, 11510061)\n",
      "(3331426, 11525678)\n",
      "(3359179, 11525678)\n",
      "(13655488, 11525678)\n",
      "(3338183, 11525678)\n",
      "(3351394, 11525679)\n",
      "(3307646, 11525679)\n",
      "(13654335, 11525679)\n",
      "(3348477, 11525679)\n",
      "(3306986, 11525681)\n",
      "(3339742, 11525681)\n"
     ]
    }
   ],
   "source": [
    "for i in ser:\n",
    "    print(i)"
   ]
  },
  {
   "cell_type": "code",
   "execution_count": 133,
   "metadata": {},
   "outputs": [],
   "source": [
    "def ge(x):\n",
    "    for i in (ser):\n",
    "        if x == i[0]:\n",
    "            return i[1]"
   ]
  },
  {
   "cell_type": "code",
   "execution_count": 136,
   "metadata": {},
   "outputs": [],
   "source": [
    "main_sales_ref.mat_ref = main_sales_ref['Sales document'].apply(ge)"
   ]
  },
  {
   "cell_type": "code",
   "execution_count": 139,
   "metadata": {},
   "outputs": [],
   "source": [
    "main_last=pd.merge(main_sales_ref, ref, how = 'left', on= 'mat_ref')"
   ]
  },
  {
   "cell_type": "code",
   "execution_count": 184,
   "metadata": {},
   "outputs": [
    {
     "ename": "TypeError",
     "evalue": "'DataFrame' object is not callable",
     "output_type": "error",
     "traceback": [
      "\u001b[0;31m---------------------------------------------------------------------------\u001b[0m",
      "\u001b[0;31mTypeError\u001b[0m                                 Traceback (most recent call last)",
      "\u001b[0;32m<ipython-input-184-ae12e9cff3a5>\u001b[0m in \u001b[0;36m<module>\u001b[0;34m\u001b[0m\n\u001b[0;32m----> 1\u001b[0;31m \u001b[0mmain_last\u001b[0m\u001b[0;34m(\u001b[0m\u001b[0;34m)\u001b[0m\u001b[0;34m\u001b[0m\u001b[0;34m\u001b[0m\u001b[0m\n\u001b[0m",
      "\u001b[0;31mTypeError\u001b[0m: 'DataFrame' object is not callable"
     ]
    }
   ],
   "source": [
    "main_last()"
   ]
  },
  {
   "cell_type": "code",
   "execution_count": 175,
   "metadata": {},
   "outputs": [
    {
     "data": {
      "text/html": [
       "<div>\n",
       "<style scoped>\n",
       "    .dataframe tbody tr th:only-of-type {\n",
       "        vertical-align: middle;\n",
       "    }\n",
       "\n",
       "    .dataframe tbody tr th {\n",
       "        vertical-align: top;\n",
       "    }\n",
       "\n",
       "    .dataframe thead th {\n",
       "        text-align: right;\n",
       "    }\n",
       "</style>\n",
       "<table border=\"1\" class=\"dataframe\">\n",
       "  <thead>\n",
       "    <tr style=\"text-align: right;\">\n",
       "      <th></th>\n",
       "      <th>Material No_x</th>\n",
       "      <th>material name</th>\n",
       "      <th>LMS Global Region</th>\n",
       "      <th>LMS Sub Region 1</th>\n",
       "      <th>LMS Sub Region 2</th>\n",
       "      <th>End User Country</th>\n",
       "      <th>Sales document</th>\n",
       "      <th>Product line</th>\n",
       "      <th>Product Group</th>\n",
       "      <th>Division</th>\n",
       "      <th>...</th>\n",
       "      <th>STC Margin</th>\n",
       "      <th>Quantity</th>\n",
       "      <th>Strategic Item Qty</th>\n",
       "      <th>mat_ref</th>\n",
       "      <th>Material No_y</th>\n",
       "      <th>Products</th>\n",
       "      <th>HW</th>\n",
       "      <th>Revenue</th>\n",
       "      <th>Margin</th>\n",
       "      <th>sales_ref</th>\n",
       "    </tr>\n",
       "  </thead>\n",
       "  <tbody>\n",
       "    <tr>\n",
       "      <th>0</th>\n",
       "      <td>8112217</td>\n",
       "      <td>AIS 4-slide stage Insert 160x110 I-3022M</td>\n",
       "      <td>Americas</td>\n",
       "      <td>North America</td>\n",
       "      <td>North America</td>\n",
       "      <td>USA</td>\n",
       "      <td>3306986</td>\n",
       "      <td>W99</td>\n",
       "      <td>CM</td>\n",
       "      <td>Research Microscopy</td>\n",
       "      <td>...</td>\n",
       "      <td>432.690000</td>\n",
       "      <td>1</td>\n",
       "      <td>NaN</td>\n",
       "      <td>11525681</td>\n",
       "      <td>11525681</td>\n",
       "      <td>THUNDER Imager 3D live cells</td>\n",
       "      <td>DMi8</td>\n",
       "      <td>NaN</td>\n",
       "      <td>NaN</td>\n",
       "      <td>11525681</td>\n",
       "    </tr>\n",
       "    <tr>\n",
       "      <th>1</th>\n",
       "      <td>8112545</td>\n",
       "      <td>Kinetic Systems 9101-01-22 workstation</td>\n",
       "      <td>Americas</td>\n",
       "      <td>North America</td>\n",
       "      <td>North America</td>\n",
       "      <td>USA</td>\n",
       "      <td>3306986</td>\n",
       "      <td>W99</td>\n",
       "      <td>CM</td>\n",
       "      <td>Research Microscopy</td>\n",
       "      <td>...</td>\n",
       "      <td>-438.300000</td>\n",
       "      <td>1</td>\n",
       "      <td>NaN</td>\n",
       "      <td>11525681</td>\n",
       "      <td>11525681</td>\n",
       "      <td>THUNDER Imager 3D live cells</td>\n",
       "      <td>DMi8</td>\n",
       "      <td>NaN</td>\n",
       "      <td>NaN</td>\n",
       "      <td>11525681</td>\n",
       "    </tr>\n",
       "    <tr>\n",
       "      <th>2</th>\n",
       "      <td>8116340</td>\n",
       "      <td>STXG-WSKMX-SET</td>\n",
       "      <td>China</td>\n",
       "      <td>China</td>\n",
       "      <td>China</td>\n",
       "      <td>China</td>\n",
       "      <td>3307646</td>\n",
       "      <td>W99</td>\n",
       "      <td>CM</td>\n",
       "      <td>Research Microscopy</td>\n",
       "      <td>...</td>\n",
       "      <td>9173.899153</td>\n",
       "      <td>1</td>\n",
       "      <td>NaN</td>\n",
       "      <td>10450922</td>\n",
       "      <td>10450922</td>\n",
       "      <td>THUNDER Imager Model Organism automated</td>\n",
       "      <td>M205</td>\n",
       "      <td>NaN</td>\n",
       "      <td>NaN</td>\n",
       "      <td>10450922</td>\n",
       "    </tr>\n",
       "    <tr>\n",
       "      <th>3</th>\n",
       "      <td>8116341</td>\n",
       "      <td>STXF-WSKMX-SET</td>\n",
       "      <td>China</td>\n",
       "      <td>China</td>\n",
       "      <td>China</td>\n",
       "      <td>China</td>\n",
       "      <td>3331426</td>\n",
       "      <td>W99</td>\n",
       "      <td>CM</td>\n",
       "      <td>Research Microscopy</td>\n",
       "      <td>...</td>\n",
       "      <td>1372.673445</td>\n",
       "      <td>1</td>\n",
       "      <td>NaN</td>\n",
       "      <td>11525678</td>\n",
       "      <td>11525678</td>\n",
       "      <td>THUNDER Imager 3D Assay</td>\n",
       "      <td>DMi8</td>\n",
       "      <td>NaN</td>\n",
       "      <td>NaN</td>\n",
       "      <td>11525678</td>\n",
       "    </tr>\n",
       "    <tr>\n",
       "      <th>4</th>\n",
       "      <td>8116377</td>\n",
       "      <td>STX-CO2O2</td>\n",
       "      <td>China</td>\n",
       "      <td>China</td>\n",
       "      <td>China</td>\n",
       "      <td>China</td>\n",
       "      <td>3331426</td>\n",
       "      <td>W99</td>\n",
       "      <td>CM</td>\n",
       "      <td>Research Microscopy</td>\n",
       "      <td>...</td>\n",
       "      <td>1029.504116</td>\n",
       "      <td>1</td>\n",
       "      <td>NaN</td>\n",
       "      <td>11525678</td>\n",
       "      <td>11525678</td>\n",
       "      <td>THUNDER Imager 3D Assay</td>\n",
       "      <td>DMi8</td>\n",
       "      <td>NaN</td>\n",
       "      <td>NaN</td>\n",
       "      <td>11525678</td>\n",
       "    </tr>\n",
       "    <tr>\n",
       "      <th>...</th>\n",
       "      <td>...</td>\n",
       "      <td>...</td>\n",
       "      <td>...</td>\n",
       "      <td>...</td>\n",
       "      <td>...</td>\n",
       "      <td>...</td>\n",
       "      <td>...</td>\n",
       "      <td>...</td>\n",
       "      <td>...</td>\n",
       "      <td>...</td>\n",
       "      <td>...</td>\n",
       "      <td>...</td>\n",
       "      <td>...</td>\n",
       "      <td>...</td>\n",
       "      <td>...</td>\n",
       "      <td>...</td>\n",
       "      <td>...</td>\n",
       "      <td>...</td>\n",
       "      <td>...</td>\n",
       "      <td>...</td>\n",
       "      <td>...</td>\n",
       "    </tr>\n",
       "    <tr>\n",
       "      <th>623</th>\n",
       "      <td>9WE_CM_CLASS_E</td>\n",
       "      <td>Warranty Extension</td>\n",
       "      <td>EMEA</td>\n",
       "      <td>Europe</td>\n",
       "      <td>South Europe</td>\n",
       "      <td>Spain</td>\n",
       "      <td>3356289</td>\n",
       "      <td>M61</td>\n",
       "      <td>CM</td>\n",
       "      <td>Research Microscopy</td>\n",
       "      <td>...</td>\n",
       "      <td>18.112640</td>\n",
       "      <td>0</td>\n",
       "      <td>NaN</td>\n",
       "      <td>11510061</td>\n",
       "      <td>11510061</td>\n",
       "      <td>THUNDER Imager Tissue</td>\n",
       "      <td>DM4 B</td>\n",
       "      <td>NaN</td>\n",
       "      <td>NaN</td>\n",
       "      <td>11510061</td>\n",
       "    </tr>\n",
       "    <tr>\n",
       "      <th>624</th>\n",
       "      <td>9WE_CM_CLASS_F</td>\n",
       "      <td>Warranty Extension</td>\n",
       "      <td>EMEA</td>\n",
       "      <td>Europe</td>\n",
       "      <td>Central Europe</td>\n",
       "      <td>Germany</td>\n",
       "      <td>13655488</td>\n",
       "      <td>M61</td>\n",
       "      <td>CM</td>\n",
       "      <td>Research Microscopy</td>\n",
       "      <td>...</td>\n",
       "      <td>1704.230528</td>\n",
       "      <td>0</td>\n",
       "      <td>NaN</td>\n",
       "      <td>11525678</td>\n",
       "      <td>11525678</td>\n",
       "      <td>THUNDER Imager 3D Assay</td>\n",
       "      <td>DMi8</td>\n",
       "      <td>NaN</td>\n",
       "      <td>NaN</td>\n",
       "      <td>11525678</td>\n",
       "    </tr>\n",
       "    <tr>\n",
       "      <th>625</th>\n",
       "      <td>9WE_CM_CLASS_F</td>\n",
       "      <td>Warranty Extension</td>\n",
       "      <td>EMEA</td>\n",
       "      <td>Europe</td>\n",
       "      <td>South Europe</td>\n",
       "      <td>Italy</td>\n",
       "      <td>3356534</td>\n",
       "      <td>M61</td>\n",
       "      <td>CM</td>\n",
       "      <td>Research Microscopy</td>\n",
       "      <td>...</td>\n",
       "      <td>1830.576384</td>\n",
       "      <td>0</td>\n",
       "      <td>NaN</td>\n",
       "      <td>11510060</td>\n",
       "      <td>11510060</td>\n",
       "      <td>THUNDER Imager 3D Tissue</td>\n",
       "      <td>DM6 B</td>\n",
       "      <td>NaN</td>\n",
       "      <td>NaN</td>\n",
       "      <td>11510060</td>\n",
       "    </tr>\n",
       "    <tr>\n",
       "      <th>626</th>\n",
       "      <td>9WE_CM_CLASS_G</td>\n",
       "      <td>Warranty Extension</td>\n",
       "      <td>China</td>\n",
       "      <td>China</td>\n",
       "      <td>China</td>\n",
       "      <td>China</td>\n",
       "      <td>3307646</td>\n",
       "      <td>M61</td>\n",
       "      <td>CM</td>\n",
       "      <td>Research Microscopy</td>\n",
       "      <td>...</td>\n",
       "      <td>-0.001494</td>\n",
       "      <td>0</td>\n",
       "      <td>NaN</td>\n",
       "      <td>10450922</td>\n",
       "      <td>10450922</td>\n",
       "      <td>THUNDER Imager Model Organism automated</td>\n",
       "      <td>M205</td>\n",
       "      <td>NaN</td>\n",
       "      <td>NaN</td>\n",
       "      <td>10450922</td>\n",
       "    </tr>\n",
       "    <tr>\n",
       "      <th>627</th>\n",
       "      <td>9WE_SM_CLASS_E</td>\n",
       "      <td>Warranty Extension</td>\n",
       "      <td>EMEA</td>\n",
       "      <td>Europe</td>\n",
       "      <td>Central Europe</td>\n",
       "      <td>Switzerland</td>\n",
       "      <td>13655092</td>\n",
       "      <td>H61</td>\n",
       "      <td>SMS</td>\n",
       "      <td>Research Microscopy</td>\n",
       "      <td>...</td>\n",
       "      <td>1926.532945</td>\n",
       "      <td>0</td>\n",
       "      <td>NaN</td>\n",
       "      <td>10450921</td>\n",
       "      <td>10450921</td>\n",
       "      <td>THUNDER Imager Model Organism coded</td>\n",
       "      <td>M205</td>\n",
       "      <td>NaN</td>\n",
       "      <td>NaN</td>\n",
       "      <td>10450921</td>\n",
       "    </tr>\n",
       "  </tbody>\n",
       "</table>\n",
       "<p>628 rows × 24 columns</p>\n",
       "</div>"
      ],
      "text/plain": [
       "      Material No_x                             material name  \\\n",
       "0           8112217  AIS 4-slide stage Insert 160x110 I-3022M   \n",
       "1           8112545    Kinetic Systems 9101-01-22 workstation   \n",
       "2           8116340                            STXG-WSKMX-SET   \n",
       "3           8116341                            STXF-WSKMX-SET   \n",
       "4           8116377                                 STX-CO2O2   \n",
       "..              ...                                       ...   \n",
       "623  9WE_CM_CLASS_E                        Warranty Extension   \n",
       "624  9WE_CM_CLASS_F                        Warranty Extension   \n",
       "625  9WE_CM_CLASS_F                        Warranty Extension   \n",
       "626  9WE_CM_CLASS_G                        Warranty Extension   \n",
       "627  9WE_SM_CLASS_E                        Warranty Extension   \n",
       "\n",
       "    LMS Global Region LMS Sub Region 1 LMS Sub Region 2 End User Country  \\\n",
       "0            Americas    North America    North America              USA   \n",
       "1            Americas    North America    North America              USA   \n",
       "2               China            China            China            China   \n",
       "3               China            China            China            China   \n",
       "4               China            China            China            China   \n",
       "..                ...              ...              ...              ...   \n",
       "623              EMEA           Europe     South Europe            Spain   \n",
       "624              EMEA           Europe   Central Europe          Germany   \n",
       "625              EMEA           Europe     South Europe            Italy   \n",
       "626             China            China            China            China   \n",
       "627              EMEA           Europe   Central Europe      Switzerland   \n",
       "\n",
       "     Sales document Product line Product Group             Division  ...  \\\n",
       "0           3306986          W99            CM  Research Microscopy  ...   \n",
       "1           3306986          W99            CM  Research Microscopy  ...   \n",
       "2           3307646          W99            CM  Research Microscopy  ...   \n",
       "3           3331426          W99            CM  Research Microscopy  ...   \n",
       "4           3331426          W99            CM  Research Microscopy  ...   \n",
       "..              ...          ...           ...                  ...  ...   \n",
       "623         3356289          M61            CM  Research Microscopy  ...   \n",
       "624        13655488          M61            CM  Research Microscopy  ...   \n",
       "625         3356534          M61            CM  Research Microscopy  ...   \n",
       "626         3307646          M61            CM  Research Microscopy  ...   \n",
       "627        13655092          H61           SMS  Research Microscopy  ...   \n",
       "\n",
       "      STC Margin  Quantity  Strategic Item Qty   mat_ref  Material No_y  \\\n",
       "0     432.690000         1                 NaN  11525681       11525681   \n",
       "1    -438.300000         1                 NaN  11525681       11525681   \n",
       "2    9173.899153         1                 NaN  10450922       10450922   \n",
       "3    1372.673445         1                 NaN  11525678       11525678   \n",
       "4    1029.504116         1                 NaN  11525678       11525678   \n",
       "..           ...       ...                 ...       ...            ...   \n",
       "623    18.112640         0                 NaN  11510061       11510061   \n",
       "624  1704.230528         0                 NaN  11525678       11525678   \n",
       "625  1830.576384         0                 NaN  11510060       11510060   \n",
       "626    -0.001494         0                 NaN  10450922       10450922   \n",
       "627  1926.532945         0                 NaN  10450921       10450921   \n",
       "\n",
       "                                    Products     HW  Revenue Margin sales_ref  \n",
       "0               THUNDER Imager 3D live cells   DMi8      NaN    NaN  11525681  \n",
       "1               THUNDER Imager 3D live cells   DMi8      NaN    NaN  11525681  \n",
       "2    THUNDER Imager Model Organism automated   M205      NaN    NaN  10450922  \n",
       "3                    THUNDER Imager 3D Assay   DMi8      NaN    NaN  11525678  \n",
       "4                    THUNDER Imager 3D Assay   DMi8      NaN    NaN  11525678  \n",
       "..                                       ...    ...      ...    ...       ...  \n",
       "623                    THUNDER Imager Tissue  DM4 B      NaN    NaN  11510061  \n",
       "624                  THUNDER Imager 3D Assay   DMi8      NaN    NaN  11525678  \n",
       "625                 THUNDER Imager 3D Tissue  DM6 B      NaN    NaN  11510060  \n",
       "626  THUNDER Imager Model Organism automated   M205      NaN    NaN  10450922  \n",
       "627      THUNDER Imager Model Organism coded   M205      NaN    NaN  10450921  \n",
       "\n",
       "[628 rows x 24 columns]"
      ]
     },
     "execution_count": 175,
     "metadata": {},
     "output_type": "execute_result"
    }
   ],
   "source": [
    "main_last"
   ]
  },
  {
   "cell_type": "code",
   "execution_count": 177,
   "metadata": {},
   "outputs": [
    {
     "data": {
      "text/plain": [
       "18"
      ]
     },
     "execution_count": 177,
     "metadata": {},
     "output_type": "execute_result"
    }
   ],
   "source": [
    "len(main_last['Sales document'].unique())"
   ]
  },
  {
   "cell_type": "code",
   "execution_count": 142,
   "metadata": {},
   "outputs": [
    {
     "data": {
      "text/plain": [
       "<matplotlib.axes._subplots.AxesSubplot at 0x7fbd77a8a750>"
      ]
     },
     "execution_count": 142,
     "metadata": {},
     "output_type": "execute_result"
    },
    {
     "data": {
      "image/png": "[encoded data removed]",
      "text/plain": [
       "<Figure size 432x288 with 1 Axes>"
      ]
     },
     "metadata": {
      "needs_background": "light"
     },
     "output_type": "display_data"
    }
   ],
   "source": [
    "sns.barplot(x='Products', y='Net Revenue', data= main_last, hue='LMS Global Region', ci = 0)"
   ]
  },
  {
   "cell_type": "code",
   "execution_count": null,
   "metadata": {},
   "outputs": [],
   "source": []
  },
  {
   "cell_type": "code",
   "execution_count": 243,
   "metadata": {},
   "outputs": [],
   "source": [
    "main_last_gr = main_last.groupby(['Sales document','mat_ref', 'LMS Sub Region 1', 'End User Country']).sum()[['Net Revenue', 'STC Margin', 'Quantity', 'Strategic Item Qty']]"
   ]
  },
  {
   "cell_type": "code",
   "execution_count": 244,
   "metadata": {},
   "outputs": [],
   "source": [
    "main_last_gr.reset_index(inplace=True)"
   ]
  },
  {
   "cell_type": "code",
   "execution_count": 256,
   "metadata": {},
   "outputs": [],
   "source": [
    "df = pd.merge(main_last_gr, ref, how= 'left', on = 'mat_ref')"
   ]
  },
  {
   "cell_type": "code",
   "execution_count": 257,
   "metadata": {},
   "outputs": [],
   "source": [
    "df.drop(['HW', 'Revenue', 'Margin', 'sales_ref'], axis = 1, inplace=True)"
   ]
  },
  {
   "cell_type": "code",
   "execution_count": 258,
   "metadata": {},
   "outputs": [
    {
     "data": {
      "text/html": [
       "<div>\n",
       "<style scoped>\n",
       "    .dataframe tbody tr th:only-of-type {\n",
       "        vertical-align: middle;\n",
       "    }\n",
       "\n",
       "    .dataframe tbody tr th {\n",
       "        vertical-align: top;\n",
       "    }\n",
       "\n",
       "    .dataframe thead th {\n",
       "        text-align: right;\n",
       "    }\n",
       "</style>\n",
       "<table border=\"1\" class=\"dataframe\">\n",
       "  <thead>\n",
       "    <tr style=\"text-align: right;\">\n",
       "      <th></th>\n",
       "      <th>Sales document</th>\n",
       "      <th>mat_ref</th>\n",
       "      <th>LMS Sub Region 1</th>\n",
       "      <th>End User Country</th>\n",
       "      <th>Net Revenue</th>\n",
       "      <th>STC Margin</th>\n",
       "      <th>Quantity</th>\n",
       "      <th>Strategic Item Qty</th>\n",
       "      <th>Material No</th>\n",
       "      <th>Products</th>\n",
       "    </tr>\n",
       "  </thead>\n",
       "  <tbody>\n",
       "    <tr>\n",
       "      <th>0</th>\n",
       "      <td>3306986</td>\n",
       "      <td>11525681</td>\n",
       "      <td>North America</td>\n",
       "      <td>USA</td>\n",
       "      <td>186882.63</td>\n",
       "      <td>92401.768481</td>\n",
       "      <td>50</td>\n",
       "      <td>1.0</td>\n",
       "      <td>11525681</td>\n",
       "      <td>THUNDER Imager 3D live cells</td>\n",
       "    </tr>\n",
       "    <tr>\n",
       "      <th>1</th>\n",
       "      <td>3307646</td>\n",
       "      <td>10450922</td>\n",
       "      <td>China</td>\n",
       "      <td>China</td>\n",
       "      <td>286029.34</td>\n",
       "      <td>162786.440323</td>\n",
       "      <td>78</td>\n",
       "      <td>2.0</td>\n",
       "      <td>10450922</td>\n",
       "      <td>THUNDER Imager Model Organism automated</td>\n",
       "    </tr>\n",
       "    <tr>\n",
       "      <th>2</th>\n",
       "      <td>3331426</td>\n",
       "      <td>11525678</td>\n",
       "      <td>China</td>\n",
       "      <td>China</td>\n",
       "      <td>107858.50</td>\n",
       "      <td>48525.676077</td>\n",
       "      <td>29</td>\n",
       "      <td>1.0</td>\n",
       "      <td>11525678</td>\n",
       "      <td>THUNDER Imager 3D Assay</td>\n",
       "    </tr>\n",
       "    <tr>\n",
       "      <th>3</th>\n",
       "      <td>3338183</td>\n",
       "      <td>11525678</td>\n",
       "      <td>Europe</td>\n",
       "      <td>Great Britain</td>\n",
       "      <td>130459.37</td>\n",
       "      <td>68848.938923</td>\n",
       "      <td>37</td>\n",
       "      <td>1.0</td>\n",
       "      <td>11525678</td>\n",
       "      <td>THUNDER Imager 3D Assay</td>\n",
       "    </tr>\n",
       "    <tr>\n",
       "      <th>4</th>\n",
       "      <td>3339742</td>\n",
       "      <td>11525681</td>\n",
       "      <td>Europe</td>\n",
       "      <td>Denmark</td>\n",
       "      <td>158563.81</td>\n",
       "      <td>72365.873996</td>\n",
       "      <td>44</td>\n",
       "      <td>1.0</td>\n",
       "      <td>11525681</td>\n",
       "      <td>THUNDER Imager 3D live cells</td>\n",
       "    </tr>\n",
       "    <tr>\n",
       "      <th>5</th>\n",
       "      <td>3344852</td>\n",
       "      <td>10450921</td>\n",
       "      <td>North America</td>\n",
       "      <td>USA</td>\n",
       "      <td>104422.62</td>\n",
       "      <td>61670.330765</td>\n",
       "      <td>26</td>\n",
       "      <td>1.0</td>\n",
       "      <td>10450921</td>\n",
       "      <td>THUNDER Imager Model Organism coded</td>\n",
       "    </tr>\n",
       "    <tr>\n",
       "      <th>6</th>\n",
       "      <td>3348477</td>\n",
       "      <td>11525679</td>\n",
       "      <td>Europe</td>\n",
       "      <td>Great Britain</td>\n",
       "      <td>102420.62</td>\n",
       "      <td>53726.800393</td>\n",
       "      <td>27</td>\n",
       "      <td>1.0</td>\n",
       "      <td>11525679</td>\n",
       "      <td>THUNDER Imager 3D cell culture</td>\n",
       "    </tr>\n",
       "    <tr>\n",
       "      <th>7</th>\n",
       "      <td>3351394</td>\n",
       "      <td>11525679</td>\n",
       "      <td>North America</td>\n",
       "      <td>USA</td>\n",
       "      <td>121192.44</td>\n",
       "      <td>66891.530343</td>\n",
       "      <td>28</td>\n",
       "      <td>1.0</td>\n",
       "      <td>11525679</td>\n",
       "      <td>THUNDER Imager 3D cell culture</td>\n",
       "    </tr>\n",
       "    <tr>\n",
       "      <th>8</th>\n",
       "      <td>3352128</td>\n",
       "      <td>11510060</td>\n",
       "      <td>China</td>\n",
       "      <td>China</td>\n",
       "      <td>89508.50</td>\n",
       "      <td>49472.922453</td>\n",
       "      <td>30</td>\n",
       "      <td>1.0</td>\n",
       "      <td>11510060</td>\n",
       "      <td>THUNDER Imager 3D Tissue</td>\n",
       "    </tr>\n",
       "    <tr>\n",
       "      <th>9</th>\n",
       "      <td>3355107</td>\n",
       "      <td>11510059</td>\n",
       "      <td>Europe</td>\n",
       "      <td>Switzerland</td>\n",
       "      <td>98576.07</td>\n",
       "      <td>57196.277395</td>\n",
       "      <td>32</td>\n",
       "      <td>1.0</td>\n",
       "      <td>11510059</td>\n",
       "      <td>THUNDER Imager 3D Tissue</td>\n",
       "    </tr>\n",
       "    <tr>\n",
       "      <th>10</th>\n",
       "      <td>3355561</td>\n",
       "      <td>11510060</td>\n",
       "      <td>North America</td>\n",
       "      <td>USA</td>\n",
       "      <td>82199.30</td>\n",
       "      <td>50927.440957</td>\n",
       "      <td>25</td>\n",
       "      <td>1.0</td>\n",
       "      <td>11510060</td>\n",
       "      <td>THUNDER Imager 3D Tissue</td>\n",
       "    </tr>\n",
       "    <tr>\n",
       "      <th>11</th>\n",
       "      <td>3356289</td>\n",
       "      <td>11510061</td>\n",
       "      <td>Europe</td>\n",
       "      <td>Spain</td>\n",
       "      <td>43683.10</td>\n",
       "      <td>20180.623979</td>\n",
       "      <td>25</td>\n",
       "      <td>1.0</td>\n",
       "      <td>11510061</td>\n",
       "      <td>THUNDER Imager Tissue</td>\n",
       "    </tr>\n",
       "    <tr>\n",
       "      <th>12</th>\n",
       "      <td>3356534</td>\n",
       "      <td>11510060</td>\n",
       "      <td>Europe</td>\n",
       "      <td>Italy</td>\n",
       "      <td>119730.46</td>\n",
       "      <td>72784.970027</td>\n",
       "      <td>28</td>\n",
       "      <td>1.0</td>\n",
       "      <td>11510060</td>\n",
       "      <td>THUNDER Imager 3D Tissue</td>\n",
       "    </tr>\n",
       "    <tr>\n",
       "      <th>13</th>\n",
       "      <td>3358625</td>\n",
       "      <td>11510060</td>\n",
       "      <td>North America</td>\n",
       "      <td>USA</td>\n",
       "      <td>118683.95</td>\n",
       "      <td>75046.210587</td>\n",
       "      <td>36</td>\n",
       "      <td>1.0</td>\n",
       "      <td>11510060</td>\n",
       "      <td>THUNDER Imager 3D Tissue</td>\n",
       "    </tr>\n",
       "    <tr>\n",
       "      <th>14</th>\n",
       "      <td>3359179</td>\n",
       "      <td>11525678</td>\n",
       "      <td>China</td>\n",
       "      <td>China</td>\n",
       "      <td>93952.84</td>\n",
       "      <td>45596.993162</td>\n",
       "      <td>37</td>\n",
       "      <td>1.0</td>\n",
       "      <td>11525678</td>\n",
       "      <td>THUNDER Imager 3D Assay</td>\n",
       "    </tr>\n",
       "    <tr>\n",
       "      <th>15</th>\n",
       "      <td>13654335</td>\n",
       "      <td>11525679</td>\n",
       "      <td>Europe</td>\n",
       "      <td>Germany</td>\n",
       "      <td>145191.15</td>\n",
       "      <td>87313.757919</td>\n",
       "      <td>27</td>\n",
       "      <td>1.0</td>\n",
       "      <td>11525679</td>\n",
       "      <td>THUNDER Imager 3D cell culture</td>\n",
       "    </tr>\n",
       "    <tr>\n",
       "      <th>16</th>\n",
       "      <td>13655092</td>\n",
       "      <td>10450921</td>\n",
       "      <td>Europe</td>\n",
       "      <td>Switzerland</td>\n",
       "      <td>116855.86</td>\n",
       "      <td>78598.018911</td>\n",
       "      <td>28</td>\n",
       "      <td>2.0</td>\n",
       "      <td>10450921</td>\n",
       "      <td>THUNDER Imager Model Organism coded</td>\n",
       "    </tr>\n",
       "    <tr>\n",
       "      <th>17</th>\n",
       "      <td>13655488</td>\n",
       "      <td>11525678</td>\n",
       "      <td>Europe</td>\n",
       "      <td>Germany</td>\n",
       "      <td>133046.04</td>\n",
       "      <td>69757.752064</td>\n",
       "      <td>35</td>\n",
       "      <td>1.0</td>\n",
       "      <td>11525678</td>\n",
       "      <td>THUNDER Imager 3D Assay</td>\n",
       "    </tr>\n",
       "  </tbody>\n",
       "</table>\n",
       "</div>"
      ],
      "text/plain": [
       "    Sales document   mat_ref LMS Sub Region 1 End User Country  Net Revenue  \\\n",
       "0          3306986  11525681    North America              USA    186882.63   \n",
       "1          3307646  10450922            China            China    286029.34   \n",
       "2          3331426  11525678            China            China    107858.50   \n",
       "3          3338183  11525678           Europe    Great Britain    130459.37   \n",
       "4          3339742  11525681           Europe          Denmark    158563.81   \n",
       "5          3344852  10450921    North America              USA    104422.62   \n",
       "6          3348477  11525679           Europe    Great Britain    102420.62   \n",
       "7          3351394  11525679    North America              USA    121192.44   \n",
       "8          3352128  11510060            China            China     89508.50   \n",
       "9          3355107  11510059           Europe      Switzerland     98576.07   \n",
       "10         3355561  11510060    North America              USA     82199.30   \n",
       "11         3356289  11510061           Europe            Spain     43683.10   \n",
       "12         3356534  11510060           Europe            Italy    119730.46   \n",
       "13         3358625  11510060    North America              USA    118683.95   \n",
       "14         3359179  11525678            China            China     93952.84   \n",
       "15        13654335  11525679           Europe          Germany    145191.15   \n",
       "16        13655092  10450921           Europe      Switzerland    116855.86   \n",
       "17        13655488  11525678           Europe          Germany    133046.04   \n",
       "\n",
       "       STC Margin  Quantity  Strategic Item Qty Material No  \\\n",
       "0    92401.768481        50                 1.0    11525681   \n",
       "1   162786.440323        78                 2.0    10450922   \n",
       "2    48525.676077        29                 1.0    11525678   \n",
       "3    68848.938923        37                 1.0    11525678   \n",
       "4    72365.873996        44                 1.0    11525681   \n",
       "5    61670.330765        26                 1.0    10450921   \n",
       "6    53726.800393        27                 1.0    11525679   \n",
       "7    66891.530343        28                 1.0    11525679   \n",
       "8    49472.922453        30                 1.0    11510060   \n",
       "9    57196.277395        32                 1.0    11510059   \n",
       "10   50927.440957        25                 1.0    11510060   \n",
       "11   20180.623979        25                 1.0    11510061   \n",
       "12   72784.970027        28                 1.0    11510060   \n",
       "13   75046.210587        36                 1.0    11510060   \n",
       "14   45596.993162        37                 1.0    11525678   \n",
       "15   87313.757919        27                 1.0    11525679   \n",
       "16   78598.018911        28                 2.0    10450921   \n",
       "17   69757.752064        35                 1.0    11525678   \n",
       "\n",
       "                                   Products  \n",
       "0              THUNDER Imager 3D live cells  \n",
       "1   THUNDER Imager Model Organism automated  \n",
       "2                   THUNDER Imager 3D Assay  \n",
       "3                   THUNDER Imager 3D Assay  \n",
       "4              THUNDER Imager 3D live cells  \n",
       "5       THUNDER Imager Model Organism coded  \n",
       "6            THUNDER Imager 3D cell culture  \n",
       "7            THUNDER Imager 3D cell culture  \n",
       "8                  THUNDER Imager 3D Tissue  \n",
       "9                  THUNDER Imager 3D Tissue  \n",
       "10                 THUNDER Imager 3D Tissue  \n",
       "11                    THUNDER Imager Tissue  \n",
       "12                 THUNDER Imager 3D Tissue  \n",
       "13                 THUNDER Imager 3D Tissue  \n",
       "14                  THUNDER Imager 3D Assay  \n",
       "15           THUNDER Imager 3D cell culture  \n",
       "16      THUNDER Imager Model Organism coded  \n",
       "17                  THUNDER Imager 3D Assay  "
      ]
     },
     "execution_count": 258,
     "metadata": {},
     "output_type": "execute_result"
    }
   ],
   "source": [
    "df"
   ]
  },
  {
   "cell_type": "code",
   "execution_count": 259,
   "metadata": {},
   "outputs": [],
   "source": [
    "df.Products = df['Sales document'].astype('str') + \" \"+ df['Products']"
   ]
  },
  {
   "cell_type": "code",
   "execution_count": 286,
   "metadata": {},
   "outputs": [
    {
     "data": {
      "image/png": "[encoded data removed]",
      "text/plain": [
       "<Figure size 1296x1296 with 4 Axes>"
      ]
     },
     "metadata": {
      "needs_background": "light"
     },
     "output_type": "display_data"
    }
   ],
   "source": [
    "\n",
    "fig, ax = plt.subplots(2,2, figsize=(18,18))\n",
    "\n",
    "sns.barplot(x='Products', y='Net Revenue', data= df, ci = 0, estimator= sum,\n",
    "           ax=ax[0,0])\n",
    "ax[0,0].tick_params(labelrotation=90)\n",
    "\n",
    "sns.barplot(x='End User Country', y='Net Revenue', data= df, ci = 0, estimator= sum,\n",
    "           ax=ax[1,1])\n",
    "ax[1,0].tick_params(labelrotation=90)\n",
    "\n",
    "sns.barplot(x='Products',y='Strategic Item Qty', data= df, ci = 0, estimator= sum,\n",
    "           ax=ax[0,1])\n",
    "ax[0,1].tick_params(labelrotation=90)\n",
    "\n",
    "sns.barplot(x='LMS Sub Region 1', y='Net Revenue', data= df, ci = 0, estimator= sum,\n",
    "           ax=ax[1,0])\n",
    "\n",
    "ax[1,1].tick_params(labelrotation=90)\n",
    "\n",
    "plt.tight_layout()\n",
    "\n",
    "plt.savefig('sales_figures')"
   ]
  },
  {
   "cell_type": "code",
   "execution_count": 268,
   "metadata": {},
   "outputs": [
    {
     "data": {
      "text/html": [
       "        <script type=\"text/javascript\">\n",
       "        window.PlotlyConfig = {MathJaxConfig: 'local'};\n",
       "        if (window.MathJax) {MathJax.Hub.Config({SVG: {font: \"STIX-Web\"}});}\n",
       "        if (typeof require !== 'undefined') {\n",
       "        require.undef(\"plotly\");\n",
       "        requirejs.config({\n",
       "            paths: {\n",
       "                'plotly': ['https://cdn.plot.ly/plotly-latest.min']\n",
       "            }\n",
       "        });\n",
       "        require(['plotly'], function(Plotly) {\n",
       "            window._Plotly = Plotly;\n",
       "        });\n",
       "        }\n",
       "        </script>\n",
       "        "
      ]
     },
     "metadata": {},
     "output_type": "display_data"
    }
   ],
   "source": [
    "init_notebook_mode(connected=True) "
   ]
  },
  {
   "cell_type": "code",
   "execution_count": 280,
   "metadata": {},
   "outputs": [],
   "source": [
    "df_map = df.groupby('End User Country').sum()\n",
    "df_map.reset_index(inplace=True)"
   ]
  },
  {
   "cell_type": "code",
   "execution_count": 281,
   "metadata": {},
   "outputs": [],
   "source": [
    "data = dict(type='choropleth',\n",
    "            colorscale = 'ylorbr',\n",
    "            locations = df_map['End User Country'],\n",
    "            z = df_map['Net Revenue'],\n",
    "             locationmode = 'country names',\n",
    "            text = df['End User Country'],\n",
    "            marker = dict(line = dict(color = 'rgb(255,255,255)',width = 2)),\n",
    "            colorbar = {'title':\"Millions USD\"}\n",
    "            ) "
   ]
  },
  {
   "cell_type": "code",
   "execution_count": 287,
   "metadata": {},
   "outputs": [],
   "source": [
    "layout = dict(title = '2021 Net Revenue',\n",
    "              geo = dict(\n",
    "                        showframe = False,\n",
    "                         projection = {'type':'natural earth'}\n",
    "             ))"
   ]
  },
  {
   "cell_type": "code",
   "execution_count": 288,
   "metadata": {},
   "outputs": [],
   "source": [
    "choromap3 = go.Figure(data = [data],layout = layout)"
   ]
  },
  {
   "cell_type": "code",
   "execution_count": 289,
   "metadata": {},
   "outputs": [
    {
     "data": {
      "application/vnd.plotly.v1+json": {
       "config": {
        "plotlyServerURL": "https://plot.ly"
       },
       "data": [
        {
         "colorbar": {
          "title": {
           "text": "Millions USD"
          }
         },
         "colorscale": [
          [
           0,
           "rgb(255,255,229)"
          ],
          [
           0.125,
           "rgb(255,247,188)"
          ],
          [
           0.25,
           "rgb(254,227,145)"
          ],
          [
           0.375,
           "rgb(254,196,79)"
          ],
          [
           0.5,
           "rgb(254,153,41)"
          ],
          [
           0.625,
           "rgb(236,112,20)"
          ],
          [
           0.75,
           "rgb(204,76,2)"
          ],
          [
           0.875,
           "rgb(153,52,4)"
          ],
          [
           1,
           "rgb(102,37,6)"
          ]
         ],
         "locationmode": "country names",
         "locations": [
          "China",
          "Denmark",
          "Germany",
          "Great Britain",
          "Italy",
          "Spain",
          "Switzerland",
          "USA"
         ],
         "marker": {
          "line": {
           "color": "rgb(255,255,255)",
           "width": 2
          }
         },
         "text": [
          "USA",
          "China",
          "China",
          "Great Britain",
          "Denmark",
          "USA",
          "Great Britain",
          "USA",
          "China",
          "Switzerland",
          "USA",
          "Spain",
          "Italy",
          "USA",
          "China",
          "Germany",
          "Switzerland",
          "Germany"
         ],
         "type": "choropleth",
         "z": [
          577349.1800000002,
          158563.81,
          278237.19,
          232879.99000000002,
          119730.46,
          43683.1,
          215431.92999999996,
          613380.9400000001
         ]
        }
       ],
       "layout": {
        "geo": {
         "projection": {
          "type": "natural earth"
         },
         "showframe": false
        },
        "template": {
         "data": {
          "bar": [
           {
            "error_x": {
             "color": "#2a3f5f"
            },
            "error_y": {
             "color": "#2a3f5f"
            },
            "marker": {
             "line": {
              "color": "#E5ECF6",
              "width": 0.5
             }
            },
            "type": "bar"
           }
          ],
          "barpolar": [
           {
            "marker": {
             "line": {
              "color": "#E5ECF6",
              "width": 0.5
             }
            },
            "type": "barpolar"
           }
          ],
          "carpet": [
           {
            "aaxis": {
             "endlinecolor": "#2a3f5f",
             "gridcolor": "white",
             "linecolor": "white",
             "minorgridcolor": "white",
             "startlinecolor": "#2a3f5f"
            },
            "baxis": {
             "endlinecolor": "#2a3f5f",
             "gridcolor": "white",
             "linecolor": "white",
             "minorgridcolor": "white",
             "startlinecolor": "#2a3f5f"
            },
            "type": "carpet"
           }
          ],
          "choropleth": [
           {
            "colorbar": {
             "outlinewidth": 0,
             "ticks": ""
            },
            "type": "choropleth"
           }
          ],
          "contour": [
           {
            "colorbar": {
             "outlinewidth": 0,
             "ticks": ""
            },
            "colorscale": [
             [
              0,
              "#0d0887"
             ],
             [
              0.1111111111111111,
              "#46039f"
             ],
             [
              0.2222222222222222,
              "#7201a8"
             ],
             [
              0.3333333333333333,
              "#9c179e"
             ],
             [
              0.4444444444444444,
              "#bd3786"
             ],
             [
              0.5555555555555556,
              "#d8576b"
             ],
             [
              0.6666666666666666,
              "#ed7953"
             ],
             [
              0.7777777777777778,
              "#fb9f3a"
             ],
             [
              0.8888888888888888,
              "#fdca26"
             ],
             [
              1,
              "#f0f921"
             ]
            ],
            "type": "contour"
           }
          ],
          "contourcarpet": [
           {
            "colorbar": {
             "outlinewidth": 0,
             "ticks": ""
            },
            "type": "contourcarpet"
           }
          ],
          "heatmap": [
           {
            "colorbar": {
             "outlinewidth": 0,
             "ticks": ""
            },
            "colorscale": [
             [
              0,
              "#0d0887"
             ],
             [
              0.1111111111111111,
              "#46039f"
             ],
             [
              0.2222222222222222,
              "#7201a8"
             ],
             [
              0.3333333333333333,
              "#9c179e"
             ],
             [
              0.4444444444444444,
              "#bd3786"
             ],
             [
              0.5555555555555556,
              "#d8576b"
             ],
             [
              0.6666666666666666,
              "#ed7953"
             ],
             [
              0.7777777777777778,
              "#fb9f3a"
             ],
             [
              0.8888888888888888,
              "#fdca26"
             ],
             [
              1,
              "#f0f921"
             ]
            ],
            "type": "heatmap"
           }
          ],
          "heatmapgl": [
           {
            "colorbar": {
             "outlinewidth": 0,
             "ticks": ""
            },
            "colorscale": [
             [
              0,
              "#0d0887"
             ],
             [
              0.1111111111111111,
              "#46039f"
             ],
             [
              0.2222222222222222,
              "#7201a8"
             ],
             [
              0.3333333333333333,
              "#9c179e"
             ],
             [
              0.4444444444444444,
              "#bd3786"
             ],
             [
              0.5555555555555556,
              "#d8576b"
             ],
             [
              0.6666666666666666,
              "#ed7953"
             ],
             [
              0.7777777777777778,
              "#fb9f3a"
             ],
             [
              0.8888888888888888,
              "#fdca26"
             ],
             [
              1,
              "#f0f921"
             ]
            ],
            "type": "heatmapgl"
           }
          ],
          "histogram": [
           {
            "marker": {
             "colorbar": {
              "outlinewidth": 0,
              "ticks": ""
             }
            },
            "type": "histogram"
           }
          ],
          "histogram2d": [
           {
            "colorbar": {
             "outlinewidth": 0,
             "ticks": ""
            },
            "colorscale": [
             [
              0,
              "#0d0887"
             ],
             [
              0.1111111111111111,
              "#46039f"
             ],
             [
              0.2222222222222222,
              "#7201a8"
             ],
             [
              0.3333333333333333,
              "#9c179e"
             ],
             [
              0.4444444444444444,
              "#bd3786"
             ],
             [
              0.5555555555555556,
              "#d8576b"
             ],
             [
              0.6666666666666666,
              "#ed7953"
             ],
             [
              0.7777777777777778,
              "#fb9f3a"
             ],
             [
              0.8888888888888888,
              "#fdca26"
             ],
             [
              1,
              "#f0f921"
             ]
            ],
            "type": "histogram2d"
           }
          ],
          "histogram2dcontour": [
           {
            "colorbar": {
             "outlinewidth": 0,
             "ticks": ""
            },
            "colorscale": [
             [
              0,
              "#0d0887"
             ],
             [
              0.1111111111111111,
              "#46039f"
             ],
             [
              0.2222222222222222,
              "#7201a8"
             ],
             [
              0.3333333333333333,
              "#9c179e"
             ],
             [
              0.4444444444444444,
              "#bd3786"
             ],
             [
              0.5555555555555556,
              "#d8576b"
             ],
             [
              0.6666666666666666,
              "#ed7953"
             ],
             [
              0.7777777777777778,
              "#fb9f3a"
             ],
             [
              0.8888888888888888,
              "#fdca26"
             ],
             [
              1,
              "#f0f921"
             ]
            ],
            "type": "histogram2dcontour"
           }
          ],
          "mesh3d": [
           {
            "colorbar": {
             "outlinewidth": 0,
             "ticks": ""
            },
            "type": "mesh3d"
           }
          ],
          "parcoords": [
           {
            "line": {
             "colorbar": {
              "outlinewidth": 0,
              "ticks": ""
             }
            },
            "type": "parcoords"
           }
          ],
          "pie": [
           {
            "automargin": true,
            "type": "pie"
           }
          ],
          "scatter": [
           {
            "marker": {
             "colorbar": {
              "outlinewidth": 0,
              "ticks": ""
             }
            },
            "type": "scatter"
           }
          ],
          "scatter3d": [
           {
            "line": {
             "colorbar": {
              "outlinewidth": 0,
              "ticks": ""
             }
            },
            "marker": {
             "colorbar": {
              "outlinewidth": 0,
              "ticks": ""
             }
            },
            "type": "scatter3d"
           }
          ],
          "scattercarpet": [
           {
            "marker": {
             "colorbar": {
              "outlinewidth": 0,
              "ticks": ""
             }
            },
            "type": "scattercarpet"
           }
          ],
          "scattergeo": [
           {
            "marker": {
             "colorbar": {
              "outlinewidth": 0,
              "ticks": ""
             }
            },
            "type": "scattergeo"
           }
          ],
          "scattergl": [
           {
            "marker": {
             "colorbar": {
              "outlinewidth": 0,
              "ticks": ""
             }
            },
            "type": "scattergl"
           }
          ],
          "scattermapbox": [
           {
            "marker": {
             "colorbar": {
              "outlinewidth": 0,
              "ticks": ""
             }
            },
            "type": "scattermapbox"
           }
          ],
          "scatterpolar": [
           {
            "marker": {
             "colorbar": {
              "outlinewidth": 0,
              "ticks": ""
             }
            },
            "type": "scatterpolar"
           }
          ],
          "scatterpolargl": [
           {
            "marker": {
             "colorbar": {
              "outlinewidth": 0,
              "ticks": ""
             }
            },
            "type": "scatterpolargl"
           }
          ],
          "scatterternary": [
           {
            "marker": {
             "colorbar": {
              "outlinewidth": 0,
              "ticks": ""
             }
            },
            "type": "scatterternary"
           }
          ],
          "surface": [
           {
            "colorbar": {
             "outlinewidth": 0,
             "ticks": ""
            },
            "colorscale": [
             [
              0,
              "#0d0887"
             ],
             [
              0.1111111111111111,
              "#46039f"
             ],
             [
              0.2222222222222222,
              "#7201a8"
             ],
             [
              0.3333333333333333,
              "#9c179e"
             ],
             [
              0.4444444444444444,
              "#bd3786"
             ],
             [
              0.5555555555555556,
              "#d8576b"
             ],
             [
              0.6666666666666666,
              "#ed7953"
             ],
             [
              0.7777777777777778,
              "#fb9f3a"
             ],
             [
              0.8888888888888888,
              "#fdca26"
             ],
             [
              1,
              "#f0f921"
             ]
            ],
            "type": "surface"
           }
          ],
          "table": [
           {
            "cells": {
             "fill": {
              "color": "#EBF0F8"
             },
             "line": {
              "color": "white"
             }
            },
            "header": {
             "fill": {
              "color": "#C8D4E3"
             },
             "line": {
              "color": "white"
             }
            },
            "type": "table"
           }
          ]
         },
         "layout": {
          "annotationdefaults": {
           "arrowcolor": "#2a3f5f",
           "arrowhead": 0,
           "arrowwidth": 1
          },
          "coloraxis": {
           "colorbar": {
            "outlinewidth": 0,
            "ticks": ""
           }
          },
          "colorscale": {
           "diverging": [
            [
             0,
             "#8e0152"
            ],
            [
             0.1,
             "#c51b7d"
            ],
            [
             0.2,
             "#de77ae"
            ],
            [
             0.3,
             "#f1b6da"
            ],
            [
             0.4,
             "#fde0ef"
            ],
            [
             0.5,
             "#f7f7f7"
            ],
            [
             0.6,
             "#e6f5d0"
            ],
            [
             0.7,
             "#b8e186"
            ],
            [
             0.8,
             "#7fbc41"
            ],
            [
             0.9,
             "#4d9221"
            ],
            [
             1,
             "#276419"
            ]
           ],
           "sequential": [
            [
             0,
             "#0d0887"
            ],
            [
             0.1111111111111111,
             "#46039f"
            ],
            [
             0.2222222222222222,
             "#7201a8"
            ],
            [
             0.3333333333333333,
             "#9c179e"
            ],
            [
             0.4444444444444444,
             "#bd3786"
            ],
            [
             0.5555555555555556,
             "#d8576b"
            ],
            [
             0.6666666666666666,
             "#ed7953"
            ],
            [
             0.7777777777777778,
             "#fb9f3a"
            ],
            [
             0.8888888888888888,
             "#fdca26"
            ],
            [
             1,
             "#f0f921"
            ]
           ],
           "sequentialminus": [
            [
             0,
             "#0d0887"
            ],
            [
             0.1111111111111111,
             "#46039f"
            ],
            [
             0.2222222222222222,
             "#7201a8"
            ],
            [
             0.3333333333333333,
             "#9c179e"
            ],
            [
             0.4444444444444444,
             "#bd3786"
            ],
            [
             0.5555555555555556,
             "#d8576b"
            ],
            [
             0.6666666666666666,
             "#ed7953"
            ],
            [
             0.7777777777777778,
             "#fb9f3a"
            ],
            [
             0.8888888888888888,
             "#fdca26"
            ],
            [
             1,
             "#f0f921"
            ]
           ]
          },
          "colorway": [
           "#636efa",
           "#EF553B",
           "#00cc96",
           "#ab63fa",
           "#FFA15A",
           "#19d3f3",
           "#FF6692",
           "#B6E880",
           "#FF97FF",
           "#FECB52"
          ],
          "font": {
           "color": "#2a3f5f"
          },
          "geo": {
           "bgcolor": "white",
           "lakecolor": "white",
           "landcolor": "#E5ECF6",
           "showlakes": true,
           "showland": true,
           "subunitcolor": "white"
          },
          "hoverlabel": {
           "align": "left"
          },
          "hovermode": "closest",
          "mapbox": {
           "style": "light"
          },
          "paper_bgcolor": "white",
          "plot_bgcolor": "#E5ECF6",
          "polar": {
           "angularaxis": {
            "gridcolor": "white",
            "linecolor": "white",
            "ticks": ""
           },
           "bgcolor": "#E5ECF6",
           "radialaxis": {
            "gridcolor": "white",
            "linecolor": "white",
            "ticks": ""
           }
          },
          "scene": {
           "xaxis": {
            "backgroundcolor": "#E5ECF6",
            "gridcolor": "white",
            "gridwidth": 2,
            "linecolor": "white",
            "showbackground": true,
            "ticks": "",
            "zerolinecolor": "white"
           },
           "yaxis": {
            "backgroundcolor": "#E5ECF6",
            "gridcolor": "white",
            "gridwidth": 2,
            "linecolor": "white",
            "showbackground": true,
            "ticks": "",
            "zerolinecolor": "white"
           },
           "zaxis": {
            "backgroundcolor": "#E5ECF6",
            "gridcolor": "white",
            "gridwidth": 2,
            "linecolor": "white",
            "showbackground": true,
            "ticks": "",
            "zerolinecolor": "white"
           }
          },
          "shapedefaults": {
           "line": {
            "color": "#2a3f5f"
           }
          },
          "ternary": {
           "aaxis": {
            "gridcolor": "white",
            "linecolor": "white",
            "ticks": ""
           },
           "baxis": {
            "gridcolor": "white",
            "linecolor": "white",
            "ticks": ""
           },
           "bgcolor": "#E5ECF6",
           "caxis": {
            "gridcolor": "white",
            "linecolor": "white",
            "ticks": ""
           }
          },
          "title": {
           "x": 0.05
          },
          "xaxis": {
           "automargin": true,
           "gridcolor": "white",
           "linecolor": "white",
           "ticks": "",
           "title": {
            "standoff": 15
           },
           "zerolinecolor": "white",
           "zerolinewidth": 2
          },
          "yaxis": {
           "automargin": true,
           "gridcolor": "white",
           "linecolor": "white",
           "ticks": "",
           "title": {
            "standoff": 15
           },
           "zerolinecolor": "white",
           "zerolinewidth": 2
          }
         }
        },
        "title": {
         "text": "2021 Net Revenue"
        }
       }
      },
      "text/html": [
       "<div>\n",
       "        \n",
       "        \n",
       "            <div id=\"dc55fe8c-5dc7-4132-98ef-a10e5e8248c9\" class=\"plotly-graph-div\" style=\"height:525px; width:100%;\"></div>\n",
       "            <script type=\"text/javascript\">\n",
       "                require([\"plotly\"], function(Plotly) {\n",
       "                    window.PLOTLYENV=window.PLOTLYENV || {};\n",
       "                    \n",
       "                if (document.getElementById(\"dc55fe8c-5dc7-4132-98ef-a10e5e8248c9\")) {\n",
       "                    Plotly.newPlot(\n",
       "                        'dc55fe8c-5dc7-4132-98ef-a10e5e8248c9',\n",
       "                        [{\"colorbar\": {\"title\": {\"text\": \"Millions USD\"}}, \"colorscale\": [[0.0, \"rgb(255,255,229)\"], [0.125, \"rgb(255,247,188)\"], [0.25, \"rgb(254,227,145)\"], [0.375, \"rgb(254,196,79)\"], [0.5, \"rgb(254,153,41)\"], [0.625, \"rgb(236,112,20)\"], [0.75, \"rgb(204,76,2)\"], [0.875, \"rgb(153,52,4)\"], [1.0, \"rgb(102,37,6)\"]], \"locationmode\": \"country names\", \"locations\": [\"China\", \"Denmark\", \"Germany\", \"Great Britain\", \"Italy\", \"Spain\", \"Switzerland\", \"USA\"], \"marker\": {\"line\": {\"color\": \"rgb(255,255,255)\", \"width\": 2}}, \"text\": [\"USA\", \"China\", \"China\", \"Great Britain\", \"Denmark\", \"USA\", \"Great Britain\", \"USA\", \"China\", \"Switzerland\", \"USA\", \"Spain\", \"Italy\", \"USA\", \"China\", \"Germany\", \"Switzerland\", \"Germany\"], \"type\": \"choropleth\", \"z\": [577349.1800000002, 158563.81, 278237.19, 232879.99000000002, 119730.46, 43683.1, 215431.92999999996, 613380.9400000001]}],\n",
       "                        {\"geo\": {\"projection\": {\"type\": \"natural earth\"}, \"showframe\": false}, \"template\": {\"data\": {\"bar\": [{\"error_x\": {\"color\": \"#2a3f5f\"}, \"error_y\": {\"color\": \"#2a3f5f\"}, \"marker\": {\"line\": {\"color\": \"#E5ECF6\", \"width\": 0.5}}, \"type\": \"bar\"}], \"barpolar\": [{\"marker\": {\"line\": {\"color\": \"#E5ECF6\", \"width\": 0.5}}, \"type\": \"barpolar\"}], \"carpet\": [{\"aaxis\": {\"endlinecolor\": \"#2a3f5f\", \"gridcolor\": \"white\", \"linecolor\": \"white\", \"minorgridcolor\": \"white\", \"startlinecolor\": \"#2a3f5f\"}, \"baxis\": {\"endlinecolor\": \"#2a3f5f\", \"gridcolor\": \"white\", \"linecolor\": \"white\", \"minorgridcolor\": \"white\", \"startlinecolor\": \"#2a3f5f\"}, \"type\": \"carpet\"}], \"choropleth\": [{\"colorbar\": {\"outlinewidth\": 0, \"ticks\": \"\"}, \"type\": \"choropleth\"}], \"contour\": [{\"colorbar\": {\"outlinewidth\": 0, \"ticks\": \"\"}, \"colorscale\": [[0.0, \"#0d0887\"], [0.1111111111111111, \"#46039f\"], [0.2222222222222222, \"#7201a8\"], [0.3333333333333333, \"#9c179e\"], [0.4444444444444444, \"#bd3786\"], [0.5555555555555556, \"#d8576b\"], [0.6666666666666666, \"#ed7953\"], [0.7777777777777778, \"#fb9f3a\"], [0.8888888888888888, \"#fdca26\"], [1.0, \"#f0f921\"]], \"type\": \"contour\"}], \"contourcarpet\": [{\"colorbar\": {\"outlinewidth\": 0, \"ticks\": \"\"}, \"type\": \"contourcarpet\"}], \"heatmap\": [{\"colorbar\": {\"outlinewidth\": 0, \"ticks\": \"\"}, \"colorscale\": [[0.0, \"#0d0887\"], [0.1111111111111111, \"#46039f\"], [0.2222222222222222, \"#7201a8\"], [0.3333333333333333, \"#9c179e\"], [0.4444444444444444, \"#bd3786\"], [0.5555555555555556, \"#d8576b\"], [0.6666666666666666, \"#ed7953\"], [0.7777777777777778, \"#fb9f3a\"], [0.8888888888888888, \"#fdca26\"], [1.0, \"#f0f921\"]], \"type\": \"heatmap\"}], \"heatmapgl\": [{\"colorbar\": {\"outlinewidth\": 0, \"ticks\": \"\"}, \"colorscale\": [[0.0, \"#0d0887\"], [0.1111111111111111, \"#46039f\"], [0.2222222222222222, \"#7201a8\"], [0.3333333333333333, \"#9c179e\"], [0.4444444444444444, \"#bd3786\"], [0.5555555555555556, \"#d8576b\"], [0.6666666666666666, \"#ed7953\"], [0.7777777777777778, \"#fb9f3a\"], [0.8888888888888888, \"#fdca26\"], [1.0, \"#f0f921\"]], \"type\": \"heatmapgl\"}], \"histogram\": [{\"marker\": {\"colorbar\": {\"outlinewidth\": 0, \"ticks\": \"\"}}, \"type\": \"histogram\"}], \"histogram2d\": [{\"colorbar\": {\"outlinewidth\": 0, \"ticks\": \"\"}, \"colorscale\": [[0.0, \"#0d0887\"], [0.1111111111111111, \"#46039f\"], [0.2222222222222222, \"#7201a8\"], [0.3333333333333333, \"#9c179e\"], [0.4444444444444444, \"#bd3786\"], [0.5555555555555556, \"#d8576b\"], [0.6666666666666666, \"#ed7953\"], [0.7777777777777778, \"#fb9f3a\"], [0.8888888888888888, \"#fdca26\"], [1.0, \"#f0f921\"]], \"type\": \"histogram2d\"}], \"histogram2dcontour\": [{\"colorbar\": {\"outlinewidth\": 0, \"ticks\": \"\"}, \"colorscale\": [[0.0, \"#0d0887\"], [0.1111111111111111, \"#46039f\"], [0.2222222222222222, \"#7201a8\"], [0.3333333333333333, \"#9c179e\"], [0.4444444444444444, \"#bd3786\"], [0.5555555555555556, \"#d8576b\"], [0.6666666666666666, \"#ed7953\"], [0.7777777777777778, \"#fb9f3a\"], [0.8888888888888888, \"#fdca26\"], [1.0, \"#f0f921\"]], \"type\": \"histogram2dcontour\"}], \"mesh3d\": [{\"colorbar\": {\"outlinewidth\": 0, \"ticks\": \"\"}, \"type\": \"mesh3d\"}], \"parcoords\": [{\"line\": {\"colorbar\": {\"outlinewidth\": 0, \"ticks\": \"\"}}, \"type\": \"parcoords\"}], \"pie\": [{\"automargin\": true, \"type\": \"pie\"}], \"scatter\": [{\"marker\": {\"colorbar\": {\"outlinewidth\": 0, \"ticks\": \"\"}}, \"type\": \"scatter\"}], \"scatter3d\": [{\"line\": {\"colorbar\": {\"outlinewidth\": 0, \"ticks\": \"\"}}, \"marker\": {\"colorbar\": {\"outlinewidth\": 0, \"ticks\": \"\"}}, \"type\": \"scatter3d\"}], \"scattercarpet\": [{\"marker\": {\"colorbar\": {\"outlinewidth\": 0, \"ticks\": \"\"}}, \"type\": \"scattercarpet\"}], \"scattergeo\": [{\"marker\": {\"colorbar\": {\"outlinewidth\": 0, \"ticks\": \"\"}}, \"type\": \"scattergeo\"}], \"scattergl\": [{\"marker\": {\"colorbar\": {\"outlinewidth\": 0, \"ticks\": \"\"}}, \"type\": \"scattergl\"}], \"scattermapbox\": [{\"marker\": {\"colorbar\": {\"outlinewidth\": 0, \"ticks\": \"\"}}, \"type\": \"scattermapbox\"}], \"scatterpolar\": [{\"marker\": {\"colorbar\": {\"outlinewidth\": 0, \"ticks\": \"\"}}, \"type\": \"scatterpolar\"}], \"scatterpolargl\": [{\"marker\": {\"colorbar\": {\"outlinewidth\": 0, \"ticks\": \"\"}}, \"type\": \"scatterpolargl\"}], \"scatterternary\": [{\"marker\": {\"colorbar\": {\"outlinewidth\": 0, \"ticks\": \"\"}}, \"type\": \"scatterternary\"}], \"surface\": [{\"colorbar\": {\"outlinewidth\": 0, \"ticks\": \"\"}, \"colorscale\": [[0.0, \"#0d0887\"], [0.1111111111111111, \"#46039f\"], [0.2222222222222222, \"#7201a8\"], [0.3333333333333333, \"#9c179e\"], [0.4444444444444444, \"#bd3786\"], [0.5555555555555556, \"#d8576b\"], [0.6666666666666666, \"#ed7953\"], [0.7777777777777778, \"#fb9f3a\"], [0.8888888888888888, \"#fdca26\"], [1.0, \"#f0f921\"]], \"type\": \"surface\"}], \"table\": [{\"cells\": {\"fill\": {\"color\": \"#EBF0F8\"}, \"line\": {\"color\": \"white\"}}, \"header\": {\"fill\": {\"color\": \"#C8D4E3\"}, \"line\": {\"color\": \"white\"}}, \"type\": \"table\"}]}, \"layout\": {\"annotationdefaults\": {\"arrowcolor\": \"#2a3f5f\", \"arrowhead\": 0, \"arrowwidth\": 1}, \"coloraxis\": {\"colorbar\": {\"outlinewidth\": 0, \"ticks\": \"\"}}, \"colorscale\": {\"diverging\": [[0, \"#8e0152\"], [0.1, \"#c51b7d\"], [0.2, \"#de77ae\"], [0.3, \"#f1b6da\"], [0.4, \"#fde0ef\"], [0.5, \"#f7f7f7\"], [0.6, \"#e6f5d0\"], [0.7, \"#b8e186\"], [0.8, \"#7fbc41\"], [0.9, \"#4d9221\"], [1, \"#276419\"]], \"sequential\": [[0.0, \"#0d0887\"], [0.1111111111111111, \"#46039f\"], [0.2222222222222222, \"#7201a8\"], [0.3333333333333333, \"#9c179e\"], [0.4444444444444444, \"#bd3786\"], [0.5555555555555556, \"#d8576b\"], [0.6666666666666666, \"#ed7953\"], [0.7777777777777778, \"#fb9f3a\"], [0.8888888888888888, \"#fdca26\"], [1.0, \"#f0f921\"]], \"sequentialminus\": [[0.0, \"#0d0887\"], [0.1111111111111111, \"#46039f\"], [0.2222222222222222, \"#7201a8\"], [0.3333333333333333, \"#9c179e\"], [0.4444444444444444, \"#bd3786\"], [0.5555555555555556, \"#d8576b\"], [0.6666666666666666, \"#ed7953\"], [0.7777777777777778, \"#fb9f3a\"], [0.8888888888888888, \"#fdca26\"], [1.0, \"#f0f921\"]]}, \"colorway\": [\"#636efa\", \"#EF553B\", \"#00cc96\", \"#ab63fa\", \"#FFA15A\", \"#19d3f3\", \"#FF6692\", \"#B6E880\", \"#FF97FF\", \"#FECB52\"], \"font\": {\"color\": \"#2a3f5f\"}, \"geo\": {\"bgcolor\": \"white\", \"lakecolor\": \"white\", \"landcolor\": \"#E5ECF6\", \"showlakes\": true, \"showland\": true, \"subunitcolor\": \"white\"}, \"hoverlabel\": {\"align\": \"left\"}, \"hovermode\": \"closest\", \"mapbox\": {\"style\": \"light\"}, \"paper_bgcolor\": \"white\", \"plot_bgcolor\": \"#E5ECF6\", \"polar\": {\"angularaxis\": {\"gridcolor\": \"white\", \"linecolor\": \"white\", \"ticks\": \"\"}, \"bgcolor\": \"#E5ECF6\", \"radialaxis\": {\"gridcolor\": \"white\", \"linecolor\": \"white\", \"ticks\": \"\"}}, \"scene\": {\"xaxis\": {\"backgroundcolor\": \"#E5ECF6\", \"gridcolor\": \"white\", \"gridwidth\": 2, \"linecolor\": \"white\", \"showbackground\": true, \"ticks\": \"\", \"zerolinecolor\": \"white\"}, \"yaxis\": {\"backgroundcolor\": \"#E5ECF6\", \"gridcolor\": \"white\", \"gridwidth\": 2, \"linecolor\": \"white\", \"showbackground\": true, \"ticks\": \"\", \"zerolinecolor\": \"white\"}, \"zaxis\": {\"backgroundcolor\": \"#E5ECF6\", \"gridcolor\": \"white\", \"gridwidth\": 2, \"linecolor\": \"white\", \"showbackground\": true, \"ticks\": \"\", \"zerolinecolor\": \"white\"}}, \"shapedefaults\": {\"line\": {\"color\": \"#2a3f5f\"}}, \"ternary\": {\"aaxis\": {\"gridcolor\": \"white\", \"linecolor\": \"white\", \"ticks\": \"\"}, \"baxis\": {\"gridcolor\": \"white\", \"linecolor\": \"white\", \"ticks\": \"\"}, \"bgcolor\": \"#E5ECF6\", \"caxis\": {\"gridcolor\": \"white\", \"linecolor\": \"white\", \"ticks\": \"\"}}, \"title\": {\"x\": 0.05}, \"xaxis\": {\"automargin\": true, \"gridcolor\": \"white\", \"linecolor\": \"white\", \"ticks\": \"\", \"title\": {\"standoff\": 15}, \"zerolinecolor\": \"white\", \"zerolinewidth\": 2}, \"yaxis\": {\"automargin\": true, \"gridcolor\": \"white\", \"linecolor\": \"white\", \"ticks\": \"\", \"title\": {\"standoff\": 15}, \"zerolinecolor\": \"white\", \"zerolinewidth\": 2}}}, \"title\": {\"text\": \"2021 Net Revenue\"}},\n",
       "                        {\"responsive\": true}\n",
       "                    ).then(function(){\n",
       "                            \n",
       "var gd = document.getElementById('dc55fe8c-5dc7-4132-98ef-a10e5e8248c9');\n",
       "var x = new MutationObserver(function (mutations, observer) {{\n",
       "        var display = window.getComputedStyle(gd).display;\n",
       "        if (!display || display === 'none') {{\n",
       "            console.log([gd, 'removed!']);\n",
       "            Plotly.purge(gd);\n",
       "            observer.disconnect();\n",
       "        }}\n",
       "}});\n",
       "\n",
       "// Listen for the removal of the full notebook cells\n",
       "var notebookContainer = gd.closest('#notebook-container');\n",
       "if (notebookContainer) {{\n",
       "    x.observe(notebookContainer, {childList: true});\n",
       "}}\n",
       "\n",
       "// Listen for the clearing of the current output cell\n",
       "var outputEl = gd.closest('.output');\n",
       "if (outputEl) {{\n",
       "    x.observe(outputEl, {childList: true});\n",
       "}}\n",
       "\n",
       "                        })\n",
       "                };\n",
       "                });\n",
       "            </script>\n",
       "        </div>"
      ]
     },
     "metadata": {},
     "output_type": "display_data"
    }
   ],
   "source": [
    "choromap3"
   ]
  },
  {
   "cell_type": "code",
   "execution_count": null,
   "metadata": {},
   "outputs": [],
   "source": []
  }
 ],
 "metadata": {
  "kernelspec": {
   "display_name": "Python 3",
   "language": "python",
   "name": "python3"
  },
  "language_info": {
   "codemirror_mode": {
    "name": "ipython",
    "version": 3
   },
   "file_extension": ".py",
   "mimetype": "text/x-python",
   "name": "python",
   "nbconvert_exporter": "python",
   "pygments_lexer": "ipython3",
   "version": "3.7.6"
  }
 },
 "nbformat": 4,
 "nbformat_minor": 4
}
